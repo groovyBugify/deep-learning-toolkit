{
 "cells": [
  {
   "cell_type": "markdown",
   "metadata": {},
   "source": [
    "# Deep Learning Toolkit for Splunk - Rapids UMAP"
   ]
  },
  {
   "cell_type": "markdown",
   "metadata": {},
   "source": [
    "This notebook contains an example workflow how to work on custom containerized code that seamlessly interfaces with the Deep Learning Toolkit for Splunk."
   ]
  },
  {
   "cell_type": "markdown",
   "metadata": {},
   "source": [
    "Note: By default every time you save this notebook the cells are exported into a python module which is then invoked by Splunk MLTK commands like <code> | fit ... | apply ... | summary </code>. Please read the Model Development Guide in the Deep Learning Toolkit app for more information."
   ]
  },
  {
   "cell_type": "markdown",
   "metadata": {},
   "source": [
    "## Stage 0 - import libraries\n",
    "At stage 0 we define all imports necessary to run our subsequent code depending on various libraries."
   ]
  },
  {
   "cell_type": "code",
   "execution_count": 8,
   "metadata": {
    "deletable": false,
    "name": "mltkc_import"
   },
   "outputs": [],
   "source": [
    "# this definition exposes all python module imports that should be available in all subsequent commands\n",
    "import json\n",
    "import numpy as np\n",
    "import pandas as pd\n",
    "import seaborn as sns\n",
    "import matplotlib.pyplot as plt\n",
    "import datashader as ds\n",
    "import datashader.transfer_functions as tf\n",
    "import base64\n",
    "import io \n",
    "\n",
    "import cudf\n",
    "from cuml.manifold.umap import UMAP as cumlUMAP\n",
    "# ...\n",
    "# global constants\n",
    "MODEL_DIRECTORY = \"/srv/app/model/data/\""
   ]
  },
  {
   "cell_type": "code",
   "execution_count": 9,
   "metadata": {},
   "outputs": [
    {
     "name": "stdout",
     "output_type": "stream",
     "text": [
      "numpy version: 1.18.1\n",
      "pandas version: 0.25.3\n"
     ]
    }
   ],
   "source": [
    "# THIS CELL IS NOT EXPORTED - free notebook cell for testing or development purposes\n",
    "print(\"numpy version: \" + np.__version__)\n",
    "print(\"pandas version: \" + pd.__version__)"
   ]
  },
  {
   "cell_type": "markdown",
   "metadata": {},
   "source": [
    "## Stage 1 - get a data sample from Splunk\n",
    "In Splunk run a search to pipe a dataset into your notebook environment. Note: mode=stage is used in the | fit command to do this."
   ]
  },
  {
   "cell_type": "markdown",
   "metadata": {},
   "source": [
    "| inputlookup diabetes.csv</br>\n",
    "| fit MLTKContainer algo=rapids_umap BMI age blood_pressure diabetes_pedigree glucose_concentration number_pregnant serum_insulin skin_thickness into app:diabetes_rapids_umap"
   ]
  },
  {
   "cell_type": "markdown",
   "metadata": {},
   "source": [
    "After you run this search your data set sample is available as a csv inside the container to develop your model. The name is taken from the into keyword (\"barebone_model\" in the example above) or set to \"default\" if no into keyword is present. This step is intended to work with a subset of your data to create your custom model."
   ]
  },
  {
   "cell_type": "code",
   "execution_count": 10,
   "metadata": {
    "deletable": false,
    "name": "mltkc_stage"
   },
   "outputs": [],
   "source": [
    "# this cell is not executed from MLTK and should only be used for staging data into the notebook environment\n",
    "def stage(name):\n",
    "    with open(\"data/\"+name+\".csv\", 'r') as f:\n",
    "        df = pd.read_csv(f)\n",
    "    with open(\"data/\"+name+\".json\", 'r') as f:\n",
    "        param = json.load(f)\n",
    "    return df, param"
   ]
  },
  {
   "cell_type": "code",
   "execution_count": 11,
   "metadata": {},
   "outputs": [
    {
     "name": "stdout",
     "output_type": "stream",
     "text": [
      "       number_pregnant  glucose_concentration  blood_pressure  skin_thickness  \\\n",
      "count       768.000000             768.000000      768.000000      768.000000   \n",
      "mean          3.845052             120.894531       69.105469       20.536458   \n",
      "std           3.369578              31.972618       19.355807       15.952218   \n",
      "min           0.000000               0.000000        0.000000        0.000000   \n",
      "25%           1.000000              99.000000       62.000000        0.000000   \n",
      "50%           3.000000             117.000000       72.000000       23.000000   \n",
      "75%           6.000000             140.250000       80.000000       32.000000   \n",
      "max          17.000000             199.000000      122.000000       99.000000   \n",
      "\n",
      "       serum_insulin         BMI  diabetes_pedigree         age  \n",
      "count     768.000000  768.000000         768.000000  768.000000  \n",
      "mean       79.799479   31.992578           0.471876   33.240885  \n",
      "std       115.244002    7.884160           0.331329   11.760232  \n",
      "min         0.000000    0.000000           0.078000   21.000000  \n",
      "25%         0.000000   27.300000           0.243750   24.000000  \n",
      "50%        30.500000   32.000000           0.372500   29.000000  \n",
      "75%       127.250000   36.600000           0.626250   41.000000  \n",
      "max       846.000000   67.100000           2.420000   81.000000  \n",
      "{'options': {'params': {'mode': 'stage', 'algo': 'rapids_umap', 'plot': '\"datashader\"'}, 'args': ['BMI', 'age', 'blood_pressure', 'diabetes_pedigree', 'glucose_concentration', 'number_pregnant', 'serum_insulin', 'skin_thickness'], 'feature_variables': ['BMI', 'age', 'blood_pressure', 'diabetes_pedigree', 'glucose_concentration', 'number_pregnant', 'serum_insulin', 'skin_thickness'], 'model_name': 'diabetes_rapids_umap', 'algo_name': 'MLTKContainer', 'mlspl_limits': {'handle_new_cat': 'default', 'max_distinct_cat_values': '1000', 'max_distinct_cat_values_for_classifiers': '1000', 'max_distinct_cat_values_for_scoring': '1000', 'max_fit_time': '6000', 'max_inputs': '1000000000', 'max_memory_usage_mb': '16000', 'max_model_size_mb': '1500', 'max_score_time': '6000', 'streaming_apply': 'false', 'use_sampling': 'true'}, 'kfold_cv': None}, 'feature_variables': ['BMI', 'age', 'blood_pressure', 'diabetes_pedigree', 'glucose_concentration', 'number_pregnant', 'serum_insulin', 'skin_thickness']}\n"
     ]
    }
   ],
   "source": [
    "# THIS CELL IS NOT EXPORTED - free notebook cell for testing or development purposes\n",
    "df, param = stage(\"diabetes_rapids_umap\")\n",
    "print(df.describe())\n",
    "print(param)"
   ]
  },
  {
   "cell_type": "markdown",
   "metadata": {},
   "source": [
    "## Stage 2 - create and initialize a model"
   ]
  },
  {
   "cell_type": "code",
   "execution_count": 13,
   "metadata": {
    "deletable": false,
    "name": "mltkc_init"
   },
   "outputs": [],
   "source": [
    "# initialize your model\n",
    "# available inputs: data and parameters\n",
    "# returns the model object which will be used as a reference to call fit, apply and summary subsequently\n",
    "def init(df,param):\n",
    "    model = {}\n",
    "    return model"
   ]
  },
  {
   "cell_type": "code",
   "execution_count": 14,
   "metadata": {
    "scrolled": true
   },
   "outputs": [
    {
     "name": "stdout",
     "output_type": "stream",
     "text": [
      "{}\n"
     ]
    }
   ],
   "source": [
    "# THIS CELL IS NOT EXPORTED - free notebook cell for testing or development purposes\n",
    "model = init(df,param)\n",
    "print(model)"
   ]
  },
  {
   "cell_type": "markdown",
   "metadata": {},
   "source": [
    "## Stage 3 - fit the model"
   ]
  },
  {
   "cell_type": "code",
   "execution_count": 15,
   "metadata": {
    "deletable": false,
    "name": "mltkc_fit"
   },
   "outputs": [],
   "source": [
    "# train your model\n",
    "# returns a fit info json object and may modify the model object\n",
    "def fit(model,df,param):\n",
    "    # model.fit()\n",
    "    info = {\"message\": \"no fit needed\"}\n",
    "    return info"
   ]
  },
  {
   "cell_type": "code",
   "execution_count": 16,
   "metadata": {},
   "outputs": [
    {
     "name": "stdout",
     "output_type": "stream",
     "text": [
      "{'message': 'no fit needed'}\n"
     ]
    }
   ],
   "source": [
    "# THIS CELL IS NOT EXPORTED - free notebook cell for testing or development purposes\n",
    "print(fit(model,df,param))"
   ]
  },
  {
   "cell_type": "markdown",
   "metadata": {},
   "source": [
    "## Stage 4 - apply the model"
   ]
  },
  {
   "cell_type": "code",
   "execution_count": 21,
   "metadata": {
    "deletable": false,
    "name": "mltkc_apply"
   },
   "outputs": [],
   "source": [
    "# apply your model\n",
    "# returns the calculated results\n",
    "def plot_to_base64(plot):\n",
    "    pic_IObytes = io.BytesIO()\n",
    "    if hasattr(plot,'fig'):\n",
    "        plot.fig.savefig(pic_IObytes, format='png')\n",
    "    elif hasattr(plot,'figure'):\n",
    "        plot.figure.savefig(pic_IObytes, format='png')\n",
    "    pic_IObytes.seek(0)\n",
    "    pic_hash = base64.b64encode(pic_IObytes.read())\n",
    "    pic_IObytes.close()\n",
    "    return pic_hash\n",
    "\n",
    "def plot_datashader_as_base64(df,param):\n",
    "    cvs = ds.Canvas(plot_width=800, plot_height=600)\n",
    "    agg = cvs.points(df, 'UMAP1', 'UMAP2')\n",
    "    img = tf.shade(agg, cmap='darkblue', how='log')\n",
    "\n",
    "    #img.plot()\n",
    "    pic_IObytes = img.to_bytesio()\n",
    "    pic_IObytes.seek(0)\n",
    "    pic_hash = base64.b64encode(pic_IObytes.read())\n",
    "    return str(pic_hash)\n",
    "\n",
    "\n",
    "def plot_scatter_as_base64(df,param):\n",
    "    hue=None\n",
    "    if 'options' in param:\n",
    "        if 'target_variable' in param['options']:\n",
    "            hue=str(param['options']['target_variable'][0])\n",
    "    #plot = sns.pairplot(df,hue=hue, palette=\"husl\")\n",
    "    sns.set()\n",
    "    plot = sns.scatterplot(x=\"UMAP1\", y=\"UMAP2\", data=df)\n",
    "    res = str(plot_to_base64(plot))\n",
    "    return res\n",
    "\n",
    "def apply(model,df,param):\n",
    "    # param['options']['model_name']\n",
    "    dfeatures = df[param['feature_variables']]\n",
    "    cuml_umap = cumlUMAP()\n",
    "    #model['umap'] = cuml_umap\n",
    "    gdf = cudf.DataFrame.from_pandas(df)\n",
    "    embedding = cuml_umap.fit_transform(gdf)\n",
    "    result = embedding.rename(columns={0: \"UMAP1\", 1: \"UMAP2\"}).to_pandas()\n",
    "    if 'plot' in param['options']['params']:\n",
    "        plots = param['options']['params']['plot'].lstrip(\"\\\"\").rstrip(\"\\\"\").lower().split(',')\n",
    "        for plot in plots:\n",
    "            if plot=='scatter':\n",
    "                model[\"plot_scatter\"] = plot_scatter_as_base64(result,param)\n",
    "            elif plot=='datashader':\n",
    "                model[\"plot_datashader\"] = plot_datashader_as_base64(result,param)\n",
    "            else:\n",
    "                continue\n",
    "\n",
    "    return result\n"
   ]
  },
  {
   "cell_type": "code",
   "execution_count": 22,
   "metadata": {},
   "outputs": [
    {
     "data": {
      "text/html": [
       "<div>\n",
       "<style scoped>\n",
       "    .dataframe tbody tr th:only-of-type {\n",
       "        vertical-align: middle;\n",
       "    }\n",
       "\n",
       "    .dataframe tbody tr th {\n",
       "        vertical-align: top;\n",
       "    }\n",
       "\n",
       "    .dataframe thead th {\n",
       "        text-align: right;\n",
       "    }\n",
       "</style>\n",
       "<table border=\"1\" class=\"dataframe\">\n",
       "  <thead>\n",
       "    <tr style=\"text-align: right;\">\n",
       "      <th></th>\n",
       "      <th>UMAP1</th>\n",
       "      <th>UMAP2</th>\n",
       "    </tr>\n",
       "  </thead>\n",
       "  <tbody>\n",
       "    <tr>\n",
       "      <th>0</th>\n",
       "      <td>-1.953858</td>\n",
       "      <td>-3.540500</td>\n",
       "    </tr>\n",
       "    <tr>\n",
       "      <th>1</th>\n",
       "      <td>6.492743</td>\n",
       "      <td>4.623490</td>\n",
       "    </tr>\n",
       "    <tr>\n",
       "      <th>2</th>\n",
       "      <td>-3.562569</td>\n",
       "      <td>-4.201053</td>\n",
       "    </tr>\n",
       "    <tr>\n",
       "      <th>3</th>\n",
       "      <td>0.105845</td>\n",
       "      <td>6.515727</td>\n",
       "    </tr>\n",
       "    <tr>\n",
       "      <th>4</th>\n",
       "      <td>2.145910</td>\n",
       "      <td>1.811247</td>\n",
       "    </tr>\n",
       "    <tr>\n",
       "      <th>...</th>\n",
       "      <td>...</td>\n",
       "      <td>...</td>\n",
       "    </tr>\n",
       "    <tr>\n",
       "      <th>763</th>\n",
       "      <td>2.897296</td>\n",
       "      <td>0.817262</td>\n",
       "    </tr>\n",
       "    <tr>\n",
       "      <th>764</th>\n",
       "      <td>7.033459</td>\n",
       "      <td>2.923386</td>\n",
       "    </tr>\n",
       "    <tr>\n",
       "      <th>765</th>\n",
       "      <td>0.345785</td>\n",
       "      <td>4.609555</td>\n",
       "    </tr>\n",
       "    <tr>\n",
       "      <th>766</th>\n",
       "      <td>-4.377171</td>\n",
       "      <td>-1.785850</td>\n",
       "    </tr>\n",
       "    <tr>\n",
       "      <th>767</th>\n",
       "      <td>6.803959</td>\n",
       "      <td>4.455104</td>\n",
       "    </tr>\n",
       "  </tbody>\n",
       "</table>\n",
       "<p>768 rows × 2 columns</p>\n",
       "</div>"
      ],
      "text/plain": [
       "        UMAP1     UMAP2\n",
       "0   -1.953858 -3.540500\n",
       "1    6.492743  4.623490\n",
       "2   -3.562569 -4.201053\n",
       "3    0.105845  6.515727\n",
       "4    2.145910  1.811247\n",
       "..        ...       ...\n",
       "763  2.897296  0.817262\n",
       "764  7.033459  2.923386\n",
       "765  0.345785  4.609555\n",
       "766 -4.377171 -1.785850\n",
       "767  6.803959  4.455104\n",
       "\n",
       "[768 rows x 2 columns]"
      ]
     },
     "execution_count": 22,
     "metadata": {},
     "output_type": "execute_result"
    },
    {
     "data": {
      "image/png": "[encoded data removed]",
      "text/plain": [
       "<Figure size 432x288 with 2 Axes>"
      ]
     },
     "metadata": {
      "needs_background": "light"
     },
     "output_type": "display_data"
    }
   ],
   "source": [
    "# THIS CELL IS NOT EXPORTED - free notebook cell for testing or development purposes\n",
    "result = apply(model,df,param)\n",
    "result"
   ]
  },
  {
   "cell_type": "code",
   "execution_count": 23,
   "metadata": {},
   "outputs": [
    {
     "data": {
      "text/plain": [
       "<matplotlib.axes._subplots.AxesSubplot at 0x7f26c014b748>"
      ]
     },
     "execution_count": 23,
     "metadata": {},
     "output_type": "execute_result"
    },
    {
     "data": {
      "image/png": "[encoded data removed]",
      "text/plain": [
       "<Figure size 432x288 with 1 Axes>"
      ]
     },
     "metadata": {
      "needs_background": "light"
     },
     "output_type": "display_data"
    }
   ],
   "source": [
    "plot = sns.scatterplot(x=\"UMAP1\", y=\"UMAP2\", data=result)\n",
    "plot\n"
   ]
  },
  {
   "cell_type": "markdown",
   "metadata": {},
   "source": [
    "## Stage 5 - save the model"
   ]
  },
  {
   "cell_type": "code",
   "execution_count": 24,
   "metadata": {
    "deletable": false,
    "name": "mltkc_save"
   },
   "outputs": [],
   "source": [
    "# save model to name in expected convention \"<algo_name>_<model_name>\"\n",
    "def save(model,name):\n",
    "    with open(MODEL_DIRECTORY + name + \".json\", 'w') as file:\n",
    "        json.dump(model, file)\n",
    "    return model"
   ]
  },
  {
   "cell_type": "code",
   "execution_count": 25,
   "metadata": {},
   "outputs": [],
   "source": [
    "model  = save(model,'umap_diabetes')"
   ]
  },
  {
   "cell_type": "markdown",
   "metadata": {},
   "source": [
    "## Stage 6 - load the model"
   ]
  },
  {
   "cell_type": "code",
   "execution_count": 26,
   "metadata": {
    "deletable": false,
    "name": "mltkc_load"
   },
   "outputs": [],
   "source": [
    "# load model from name in expected convention \"<algo_name>_<model_name>\"\n",
    "def load(name):\n",
    "    model = {}\n",
    "    with open(MODEL_DIRECTORY + name + \".json\", 'r') as file:\n",
    "        model = json.load(file)\n",
    "    return model"
   ]
  },
  {
   "cell_type": "code",
   "execution_count": 27,
   "metadata": {},
   "outputs": [],
   "source": [
    "model = load('umap_diabetes')"
   ]
  },
  {
   "cell_type": "markdown",
   "metadata": {},
   "source": [
    "## Stage 7 - provide a summary of the model"
   ]
  },
  {
   "cell_type": "code",
   "execution_count": 28,
   "metadata": {
    "deletable": false,
    "name": "mltkc_summary"
   },
   "outputs": [],
   "source": [
    "# return a model summary\n",
    "def summary(model=None):\n",
    "    returns = {\"version\": {\"numpy\": np.__version__, \"pandas\": pd.__version__} }\n",
    "    return returns"
   ]
  },
  {
   "cell_type": "markdown",
   "metadata": {},
   "source": [
    "## End of Stages\n",
    "All subsequent cells are not tagged and can be used for further freeform code"
   ]
  },
  {
   "cell_type": "code",
   "execution_count": 29,
   "metadata": {},
   "outputs": [
    {
     "name": "stdout",
     "output_type": "stream",
     "text": [
      "{'version': {'numpy': '1.18.1', 'pandas': '0.25.3'}}\n"
     ]
    }
   ],
   "source": [
    "print(summary(model))"
   ]
  },
  {
   "cell_type": "code",
   "execution_count": null,
   "metadata": {},
   "outputs": [],
   "source": []
  }
 ],
 "metadata": {
  "kernelspec": {
   "display_name": "Python 3",
   "language": "python",
   "name": "python3"
  },
  "language_info": {
   "codemirror_mode": {
    "name": "ipython",
    "version": 3
   },
   "file_extension": ".py",
   "mimetype": "text/x-python",
   "name": "python",
   "nbconvert_exporter": "python",
   "pygments_lexer": "ipython3",
   "version": "3.6.10"
  }
 },
 "nbformat": 4,
 "nbformat_minor": 4
}
