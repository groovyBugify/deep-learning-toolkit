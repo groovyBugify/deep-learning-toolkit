{
 "cells": [
  {
   "cell_type": "markdown",
   "metadata": {},
   "source": [
    "# Deep Learning Toolkit for Splunk - Rapids UMAP"
   ]
  },
  {
   "cell_type": "markdown",
   "metadata": {},
   "source": [
    "This notebook contains an example workflow how to work on custom containerized code that seamlessly interfaces with the Deep Learning Toolkit for Splunk."
   ]
  },
  {
   "cell_type": "markdown",
   "metadata": {},
   "source": [
    "Note: By default every time you save this notebook the cells are exported into a python module which is then invoked by Splunk MLTK commands like <code> | fit ... | apply ... | summary </code>. Please read the Model Development Guide in the Deep Learning Toolkit app for more information."
   ]
  },
  {
   "cell_type": "markdown",
   "metadata": {},
   "source": [
    "## Stage 0 - import libraries\n",
    "At stage 0 we define all imports necessary to run our subsequent code depending on various libraries."
   ]
  },
  {
   "cell_type": "code",
   "execution_count": 49,
   "metadata": {
    "deletable": false,
    "name": "mltkc_import"
   },
   "outputs": [],
   "source": [
    "# this definition exposes all python module imports that should be available in all subsequent commands\n",
    "import json\n",
    "import numpy as np\n",
    "import pandas as pd\n",
    "import seaborn as sns\n",
    "import matplotlib.pyplot as plt\n",
    "import datashader as ds\n",
    "import datashader.transfer_functions as tf\n",
    "import base64\n",
    "import io \n",
    "\n",
    "import cudf\n",
    "from cuml.manifold.umap import UMAP as cumlUMAP\n",
    "# ...\n",
    "# global constants\n",
    "MODEL_DIRECTORY = \"/srv/app/model/data/\""
   ]
  },
  {
   "cell_type": "code",
   "execution_count": 50,
   "metadata": {},
   "outputs": [
    {
     "name": "stdout",
     "output_type": "stream",
     "text": [
      "numpy version: 1.18.1\n",
      "pandas version: 0.25.3\n"
     ]
    }
   ],
   "source": [
    "# THIS CELL IS NOT EXPORTED - free notebook cell for testing or development purposes\n",
    "print(\"numpy version: \" + np.__version__)\n",
    "print(\"pandas version: \" + pd.__version__)"
   ]
  },
  {
   "cell_type": "markdown",
   "metadata": {},
   "source": [
    "## Stage 1 - get a data sample from Splunk\n",
    "In Splunk run a search to pipe a dataset into your notebook environment. Note: mode=stage is used in the | fit command to do this."
   ]
  },
  {
   "cell_type": "markdown",
   "metadata": {},
   "source": [
    "| inputlookup dga_domains_features.csv</br>\n",
    "| fit MLTKContainer algo=rapids_umap plot=\"datashader\" class from ut* PC* into app:dga_rapids_umap\n"
   ]
  },
  {
   "cell_type": "markdown",
   "metadata": {},
   "source": [
    "After you run this search your data set sample is available as a csv inside the container to develop your model. The name is taken from the into keyword (\"barebone_model\" in the example above) or set to \"default\" if no into keyword is present. This step is intended to work with a subset of your data to create your custom model."
   ]
  },
  {
   "cell_type": "code",
   "execution_count": 94,
   "metadata": {
    "deletable": false,
    "name": "mltkc_stage"
   },
   "outputs": [],
   "source": [
    "# this cell is not executed from MLTK and should only be used for staging data into the notebook environment\n",
    "def stage(name):\n",
    "    with open(\"data/\"+name+\".csv\", 'r') as f:\n",
    "        df = pd.read_csv(f)\n",
    "    with open(\"data/\"+name+\".json\", 'r') as f:\n",
    "        param = json.load(f)\n",
    "    return df, param"
   ]
  },
  {
   "cell_type": "code",
   "execution_count": 95,
   "metadata": {},
   "outputs": [
    {
     "name": "stdout",
     "output_type": "stream",
     "text": [
      "               PC_1          PC_2          PC_3  ut_consonant_ratio  \\\n",
      "count  1.000000e+05  1.000000e+05  1.000000e+05       100000.000000   \n",
      "mean  -2.884804e-17  3.126388e-17  4.547474e-18            0.663744   \n",
      "std    3.009696e-01  2.765589e-01  2.462737e-01            0.116289   \n",
      "min   -6.329973e-01 -4.584987e-01 -4.336646e-01            0.157895   \n",
      "25%   -2.302162e-01 -1.668878e-01 -9.667472e-02            0.600000   \n",
      "50%    2.829823e-02 -7.662463e-02 -4.886632e-02            0.666667   \n",
      "75%    1.429489e-01  1.020034e-01  4.465652e-02            0.714286   \n",
      "max    7.522650e-01  8.231569e-01  8.860410e-01            1.000000   \n",
      "\n",
      "       ut_digit_ratio  ut_domain_length  ut_meaning_ratio     ut_shannon  \\\n",
      "count   100000.000000     100000.000000     100000.000000  100000.000000   \n",
      "mean         0.112564         21.387000          0.292602       3.690800   \n",
      "std          0.132294          7.703738          0.213134       0.425123   \n",
      "min          0.000000          1.000000          0.000000       0.000000   \n",
      "25%          0.000000         16.000000          0.125000       3.392747   \n",
      "50%          0.050000         20.000000          0.238095       3.721928   \n",
      "75%          0.222222         28.000000          0.454545       4.021928   \n",
      "max          0.625000         82.000000          1.000000       4.771600   \n",
      "\n",
      "       ut_vowel_ratio  \n",
      "count   100000.000000  \n",
      "mean         0.224831  \n",
      "std          0.099821  \n",
      "min          0.000000  \n",
      "25%          0.150000  \n",
      "50%          0.222222  \n",
      "75%          0.300000  \n",
      "max          0.833333  \n",
      "{'options': {'params': {'mode': 'stage', 'algo': 'rapids_umap', 'plot': '\"datashader\"'}, 'args': ['subclass', 'ut*', 'PC*'], 'target_variable': ['subclass'], 'feature_variables': ['ut*', 'PC*'], 'model_name': 'dga_rapids_umap', 'algo_name': 'MLTKContainer', 'mlspl_limits': {'handle_new_cat': 'default', 'max_distinct_cat_values': '1000', 'max_distinct_cat_values_for_classifiers': '1000', 'max_distinct_cat_values_for_scoring': '1000', 'max_fit_time': '6000', 'max_inputs': '1000000000', 'max_memory_usage_mb': '16000', 'max_model_size_mb': '1500', 'max_score_time': '6000', 'streaming_apply': 'false', 'use_sampling': 'true'}, 'kfold_cv': None}, 'feature_variables': ['ut_consonant_ratio', 'ut_digit_ratio', 'ut_domain_length', 'ut_meaning_ratio', 'ut_shannon', 'ut_vowel_ratio', 'PC_1', 'PC_2', 'PC_3'], 'target_variables': ['subclass']}\n"
     ]
    }
   ],
   "source": [
    "# THIS CELL IS NOT EXPORTED - free notebook cell for testing or development purposes\n",
    "df, param = stage(\"dga_rapids_umap\")\n",
    "print(df.describe())\n",
    "print(param)"
   ]
  },
  {
   "cell_type": "code",
   "execution_count": 96,
   "metadata": {},
   "outputs": [
    {
     "data": {
      "text/plain": [
       "['ut_consonant_ratio',\n",
       " 'ut_digit_ratio',\n",
       " 'ut_domain_length',\n",
       " 'ut_meaning_ratio',\n",
       " 'ut_shannon',\n",
       " 'ut_vowel_ratio',\n",
       " 'PC_1',\n",
       " 'PC_2',\n",
       " 'PC_3',\n",
       " 'subclass']"
      ]
     },
     "execution_count": 96,
     "metadata": {},
     "output_type": "execute_result"
    }
   ],
   "source": [
    "param['feature_variables'] + param['target_variables']"
   ]
  },
  {
   "cell_type": "code",
   "execution_count": null,
   "metadata": {},
   "outputs": [],
   "source": []
  },
  {
   "cell_type": "markdown",
   "metadata": {},
   "source": [
    "## Stage 2 - create and initialize a model"
   ]
  },
  {
   "cell_type": "code",
   "execution_count": 97,
   "metadata": {
    "deletable": false,
    "name": "mltkc_init"
   },
   "outputs": [],
   "source": [
    "# initialize your model\n",
    "# available inputs: data and parameters\n",
    "# returns the model object which will be used as a reference to call fit, apply and summary subsequently\n",
    "def init(df,param):\n",
    "    model = {}\n",
    "    return model"
   ]
  },
  {
   "cell_type": "code",
   "execution_count": 98,
   "metadata": {
    "scrolled": true
   },
   "outputs": [
    {
     "name": "stdout",
     "output_type": "stream",
     "text": [
      "{}\n"
     ]
    }
   ],
   "source": [
    "# THIS CELL IS NOT EXPORTED - free notebook cell for testing or development purposes\n",
    "model = init(df,param)\n",
    "print(model)"
   ]
  },
  {
   "cell_type": "markdown",
   "metadata": {},
   "source": [
    "## Stage 3 - fit the model"
   ]
  },
  {
   "cell_type": "code",
   "execution_count": 99,
   "metadata": {
    "deletable": false,
    "name": "mltkc_fit"
   },
   "outputs": [],
   "source": [
    "# train your model\n",
    "# returns a fit info json object and may modify the model object\n",
    "def fit(model,df,param):\n",
    "    # model.fit()\n",
    "    info = {\"message\": \"no fit needed\"}\n",
    "    return info"
   ]
  },
  {
   "cell_type": "code",
   "execution_count": 100,
   "metadata": {},
   "outputs": [
    {
     "name": "stdout",
     "output_type": "stream",
     "text": [
      "{'message': 'no fit needed'}\n"
     ]
    }
   ],
   "source": [
    "# THIS CELL IS NOT EXPORTED - free notebook cell for testing or development purposes\n",
    "print(fit(model,df,param))"
   ]
  },
  {
   "cell_type": "markdown",
   "metadata": {},
   "source": [
    "## Stage 4 - apply the model"
   ]
  },
  {
   "cell_type": "code",
   "execution_count": 101,
   "metadata": {
    "deletable": false,
    "name": "mltkc_apply"
   },
   "outputs": [],
   "source": [
    "# apply your model\n",
    "# returns the calculated results\n",
    "def plot_to_base64(plot):\n",
    "    pic_IObytes = io.BytesIO()\n",
    "    if hasattr(plot,'fig'):\n",
    "        plot.fig.savefig(pic_IObytes, format='png')\n",
    "    elif hasattr(plot,'figure'):\n",
    "        plot.figure.savefig(pic_IObytes, format='png')\n",
    "    pic_IObytes.seek(0)\n",
    "    pic_hash = base64.b64encode(pic_IObytes.read())\n",
    "    pic_IObytes.close()\n",
    "    return pic_hash\n",
    "\n",
    "def plot_datashader_as_base64(df,param):\n",
    "    cat = param['target_variables'][0]\n",
    "    dfr = df.astype({cat: 'category'})\n",
    "    squ = 25.0\n",
    "    dfr = dfr[dfr[\"UMAP1\"].between(-squ, squ) & dfr[\"UMAP2\"].between(-squ, squ)]\n",
    "    cvs = ds.Canvas(plot_width=800, plot_height=600)\n",
    "    agg = cvs.points(dfr, 'UMAP1', 'UMAP2', ds.count_cat(cat))\n",
    "    color_key_dga = {'dga':'red', 'legit':'blue'}\n",
    "\n",
    "    img = tf.shade(agg, cmap=color_key_dga, how=\"eq_hist\")\n",
    "\n",
    "    #img.plot()\n",
    "    pic_IObytes = img.to_bytesio()\n",
    "    pic_IObytes.seek(0)\n",
    "    pic_hash = base64.b64encode(pic_IObytes.read())\n",
    "    return str(pic_hash)\n",
    "\n",
    "\n",
    "def plot_scatter_as_base64(df,param):\n",
    "    hue=None\n",
    "    if 'options' in param:\n",
    "        if 'target_variable' in param['options']:\n",
    "            hue=str(param['options']['target_variable'][0])\n",
    "    #plot = sns.pairplot(df,hue=hue, palette=\"husl\")\n",
    "    sns.set()\n",
    "    plot = sns.scatterplot(x=\"UMAP1\", y=\"UMAP2\", data=df)\n",
    "    res = str(plot_to_base64(plot))\n",
    "    return res\n",
    "\n",
    "def apply(model,df,param):\n",
    "    # param['options']['model_name']\n",
    "    dfeatures = df[param['feature_variables']]\n",
    "    cuml_umap = cumlUMAP()\n",
    "    #model['umap'] = cuml_umap\n",
    "    gdf = cudf.DataFrame.from_pandas(df)\n",
    "    embedding = cuml_umap.fit_transform(gdf)\n",
    "    result = embedding.rename(columns={0: \"UMAP1\", 1: \"UMAP2\"}).to_pandas()\n",
    "    result_plot = df[param['target_variables']].join(result)\n",
    "    if 'plot' in param['options']['params']:\n",
    "        plots = param['options']['params']['plot'].lstrip(\"\\\"\").rstrip(\"\\\"\").lower().split(',')\n",
    "        for plot in plots:\n",
    "            if plot=='scatter':\n",
    "                model[\"plot_scatter\"] = plot_scatter_as_base64(result,param)\n",
    "            elif plot=='datashader':\n",
    "                model[\"plot_datashader\"] = plot_datashader_as_base64(result_plot,param)\n",
    "            else:\n",
    "                continue\n",
    "\n",
    "    return result_plot\n"
   ]
  },
  {
   "cell_type": "code",
   "execution_count": 102,
   "metadata": {},
   "outputs": [
    {
     "data": {
      "text/html": [
       "<div>\n",
       "<style scoped>\n",
       "    .dataframe tbody tr th:only-of-type {\n",
       "        vertical-align: middle;\n",
       "    }\n",
       "\n",
       "    .dataframe tbody tr th {\n",
       "        vertical-align: top;\n",
       "    }\n",
       "\n",
       "    .dataframe thead th {\n",
       "        text-align: right;\n",
       "    }\n",
       "</style>\n",
       "<table border=\"1\" class=\"dataframe\">\n",
       "  <thead>\n",
       "    <tr style=\"text-align: right;\">\n",
       "      <th></th>\n",
       "      <th>subclass</th>\n",
       "      <th>UMAP1</th>\n",
       "      <th>UMAP2</th>\n",
       "    </tr>\n",
       "  </thead>\n",
       "  <tbody>\n",
       "    <tr>\n",
       "      <th>0</th>\n",
       "      <td>legit</td>\n",
       "      <td>-0.322556</td>\n",
       "      <td>5.951560</td>\n",
       "    </tr>\n",
       "    <tr>\n",
       "      <th>1</th>\n",
       "      <td>legit</td>\n",
       "      <td>-4.920866</td>\n",
       "      <td>-9.616891</td>\n",
       "    </tr>\n",
       "    <tr>\n",
       "      <th>2</th>\n",
       "      <td>legit</td>\n",
       "      <td>-6.091855</td>\n",
       "      <td>7.682178</td>\n",
       "    </tr>\n",
       "    <tr>\n",
       "      <th>3</th>\n",
       "      <td>legit</td>\n",
       "      <td>-4.102695</td>\n",
       "      <td>11.969825</td>\n",
       "    </tr>\n",
       "    <tr>\n",
       "      <th>4</th>\n",
       "      <td>legit</td>\n",
       "      <td>-6.599295</td>\n",
       "      <td>-10.787489</td>\n",
       "    </tr>\n",
       "    <tr>\n",
       "      <th>...</th>\n",
       "      <td>...</td>\n",
       "      <td>...</td>\n",
       "      <td>...</td>\n",
       "    </tr>\n",
       "    <tr>\n",
       "      <th>99995</th>\n",
       "      <td>locky</td>\n",
       "      <td>3.982634</td>\n",
       "      <td>3.999881</td>\n",
       "    </tr>\n",
       "    <tr>\n",
       "      <th>99996</th>\n",
       "      <td>locky</td>\n",
       "      <td>-7.426095</td>\n",
       "      <td>7.203380</td>\n",
       "    </tr>\n",
       "    <tr>\n",
       "      <th>99997</th>\n",
       "      <td>locky</td>\n",
       "      <td>1.505907</td>\n",
       "      <td>-2.775162</td>\n",
       "    </tr>\n",
       "    <tr>\n",
       "      <th>99998</th>\n",
       "      <td>locky</td>\n",
       "      <td>-1.021333</td>\n",
       "      <td>-2.848526</td>\n",
       "    </tr>\n",
       "    <tr>\n",
       "      <th>99999</th>\n",
       "      <td>locky</td>\n",
       "      <td>3.969338</td>\n",
       "      <td>-2.709512</td>\n",
       "    </tr>\n",
       "  </tbody>\n",
       "</table>\n",
       "<p>100000 rows × 3 columns</p>\n",
       "</div>"
      ],
      "text/plain": [
       "      subclass     UMAP1      UMAP2\n",
       "0        legit -0.322556   5.951560\n",
       "1        legit -4.920866  -9.616891\n",
       "2        legit -6.091855   7.682178\n",
       "3        legit -4.102695  11.969825\n",
       "4        legit -6.599295 -10.787489\n",
       "...        ...       ...        ...\n",
       "99995    locky  3.982634   3.999881\n",
       "99996    locky -7.426095   7.203380\n",
       "99997    locky  1.505907  -2.775162\n",
       "99998    locky -1.021333  -2.848526\n",
       "99999    locky  3.969338  -2.709512\n",
       "\n",
       "[100000 rows x 3 columns]"
      ]
     },
     "execution_count": 102,
     "metadata": {},
     "output_type": "execute_result"
    },
    {
     "data": {
      "image/png": "[encoded data removed]",
      "text/plain": [
       "<Figure size 432x288 with 2 Axes>"
      ]
     },
     "metadata": {},
     "output_type": "display_data"
    }
   ],
   "source": [
    "# THIS CELL IS NOT EXPORTED - free notebook cell for testing or development purposes\n",
    "result = apply(model,df,param)\n",
    "result"
   ]
  },
  {
   "cell_type": "code",
   "execution_count": 103,
   "metadata": {},
   "outputs": [
    {
     "data": {
      "text/plain": [
       "<matplotlib.axes._subplots.AxesSubplot at 0x7fe13be61160>"
      ]
     },
     "execution_count": 103,
     "metadata": {},
     "output_type": "execute_result"
    },
    {
     "data": {
      "image/png": "[encoded data removed]",
      "text/plain": [
       "<Figure size 432x288 with 1 Axes>"
      ]
     },
     "metadata": {},
     "output_type": "display_data"
    }
   ],
   "source": [
    "plot = sns.scatterplot(x=\"UMAP1\", y=\"UMAP2\", data=result)\n",
    "plot\n"
   ]
  },
  {
   "cell_type": "markdown",
   "metadata": {},
   "source": [
    "## Stage 5 - save the model"
   ]
  },
  {
   "cell_type": "code",
   "execution_count": 104,
   "metadata": {
    "deletable": false,
    "name": "mltkc_save"
   },
   "outputs": [],
   "source": [
    "# save model to name in expected convention \"<algo_name>_<model_name>\"\n",
    "def save(model,name):\n",
    "    with open(MODEL_DIRECTORY + name + \".json\", 'w') as file:\n",
    "        json.dump(model, file)\n",
    "    return model"
   ]
  },
  {
   "cell_type": "code",
   "execution_count": 109,
   "metadata": {},
   "outputs": [],
   "source": [
    "model  = save(model,'umap_dga')"
   ]
  },
  {
   "cell_type": "markdown",
   "metadata": {},
   "source": [
    "## Stage 6 - load the model"
   ]
  },
  {
   "cell_type": "code",
   "execution_count": 110,
   "metadata": {
    "deletable": false,
    "name": "mltkc_load"
   },
   "outputs": [],
   "source": [
    "# load model from name in expected convention \"<algo_name>_<model_name>\"\n",
    "def load(name):\n",
    "    model = {}\n",
    "    with open(MODEL_DIRECTORY + name + \".json\", 'r') as file:\n",
    "        model = json.load(file)\n",
    "    return model"
   ]
  },
  {
   "cell_type": "code",
   "execution_count": 111,
   "metadata": {},
   "outputs": [],
   "source": [
    "model = load('umap_dga')"
   ]
  },
  {
   "cell_type": "markdown",
   "metadata": {},
   "source": [
    "## Stage 7 - provide a summary of the model"
   ]
  },
  {
   "cell_type": "code",
   "execution_count": 112,
   "metadata": {
    "deletable": false,
    "name": "mltkc_summary"
   },
   "outputs": [],
   "source": [
    "# return a model summary\n",
    "def summary(model=None):\n",
    "    returns = {\"version\": {\"numpy\": np.__version__, \"pandas\": pd.__version__} }\n",
    "    return returns"
   ]
  },
  {
   "cell_type": "markdown",
   "metadata": {},
   "source": [
    "## End of Stages\n",
    "All subsequent cells are not tagged and can be used for further freeform code"
   ]
  },
  {
   "cell_type": "code",
   "execution_count": 15,
   "metadata": {},
   "outputs": [
    {
     "name": "stdout",
     "output_type": "stream",
     "text": [
      "{'version': {'numpy': '1.18.1', 'pandas': '0.25.3'}}\n"
     ]
    }
   ],
   "source": [
    "print(summary(model))"
   ]
  },
  {
   "cell_type": "code",
   "execution_count": null,
   "metadata": {},
   "outputs": [],
   "source": []
  }
 ],
 "metadata": {
  "kernelspec": {
   "display_name": "Python 3",
   "language": "python",
   "name": "python3"
  },
  "language_info": {
   "codemirror_mode": {
    "name": "ipython",
    "version": 3
   },
   "file_extension": ".py",
   "mimetype": "text/x-python",
   "name": "python",
   "nbconvert_exporter": "python",
   "pygments_lexer": "ipython3",
   "version": "3.6.10"
  }
 },
 "nbformat": 4,
 "nbformat_minor": 4
}
