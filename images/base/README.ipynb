{
 "cells": [
  {
   "cell_type": "markdown",
   "metadata": {},
   "source": [
    "# Deep Learning Toolkit 4.0 for Splunk - Notebook for Algorithm Deployment"
   ]
  },
  {
   "cell_type": "markdown",
   "metadata": {},
   "source": [
    "## README"
   ]
  },
  {
   "cell_type": "markdown",
   "metadata": {},
   "source": [
    "The notebook.ipynb in the root directory of this Jupyter Lab Environment is automatically linked to the algorithm that you created in the Deep Learning Toolkit (DLTK) App for Splunk. By deploying an algorithm the source code contained in the notebook.ipynb will be automatically synchronized into the configuration files of DLTK and it will be used for serving your deployed algorithm. "
   ]
  },
  {
   "cell_type": "markdown",
   "metadata": {},
   "source": [
    "The notebook contains a predefined structure that most typical machine learning or deep learning algorithms implement. When you save the notebook all relevant functions are extracted into a .py module file which is located under app/model/notebook.py"
   ]
  },
  {
   "cell_type": "markdown",
   "metadata": {},
   "source": [
    "Any model information that should be persisted is typically stored under app/model/data and depends on the format for model saving that is choosen in a given framework like TensorFlow, PyTorch or others"
   ]
  },
  {
   "cell_type": "markdown",
   "metadata": {},
   "source": [
    "## Migration from DLTK 3.x"
   ]
  },
  {
   "cell_type": "markdown",
   "metadata": {},
   "source": [
    "To migrate existing notebooks from DLTK 3.x into DLTK 4.0 you can simply open your existing notebook in a text editor, copy the JSON content and paste it into the notebook.ipynb of your deployed algorithm. You can open the notebook.ipynb here in JupyterLab with \"Editor\" where you see again the JSON structure of the notebook which you can replace with your exiting one. Alternatively you can import your notebook into the root folder and rename it to notebook"
   ]
  }
 ],
 "metadata": {
  "kernelspec": {
   "display_name": "Python 3",
   "language": "python",
   "name": "python3"
  },
  "language_info": {
   "codemirror_mode": {
    "name": "ipython",
    "version": 3
   },
   "file_extension": ".py",
   "mimetype": "text/x-python",
   "name": "python",
   "nbconvert_exporter": "python",
   "pygments_lexer": "ipython3",
   "version": "3.7.6"
  }
 },
 "nbformat": 4,
 "nbformat_minor": 4
}