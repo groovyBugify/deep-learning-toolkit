{
 "cells": [
  {
   "cell_type": "markdown",
   "metadata": {},
   "source": [
    "# Deep Learning Toolkit for Splunk - Example for SHAP with XGBOOST"
   ]
  },
  {
   "cell_type": "markdown",
   "metadata": {},
   "source": [
    "This notebook contains an example workflow how to work on custom containerized code that seamlessly interfaces with the Deep Learning Toolkit for Splunk."
   ]
  },
  {
   "cell_type": "markdown",
   "metadata": {},
   "source": [
    "Note: By default every time you save this notebook the cells are exported into a python module which is then invoked by Splunk MLTK commands like <code> | fit ... | apply ... | summary </code>. Please read the Model Development Guide in the Deep Learning Toolkit app for more information."
   ]
  },
  {
   "cell_type": "markdown",
   "metadata": {},
   "source": [
    "## Stage 0 - import libraries\n",
    "At stage 0 we define all imports necessary to run our subsequent code depending on various libraries."
   ]
  },
  {
   "cell_type": "code",
   "execution_count": 31,
   "metadata": {
    "deletable": false,
    "name": "mltkc_import"
   },
   "outputs": [],
   "source": [
    "# this definition exposes all python module imports that should be available in all subsequent commands\n",
    "import json\n",
    "import numpy as np\n",
    "import pandas as pd\n",
    "import xgboost\n",
    "import shap\n",
    "import matplotlib.pyplot as plt\n",
    "# global constants\n",
    "MODEL_DIRECTORY = \"/srv/app/model/data/\""
   ]
  },
  {
   "cell_type": "code",
   "execution_count": 32,
   "metadata": {},
   "outputs": [
    {
     "name": "stdout",
     "output_type": "stream",
     "text": [
      "numpy version: 1.18.1\n",
      "pandas version: 1.0.1\n",
      "xgboost version: 1.0.2\n",
      "shap version: 0.35.0\n"
     ]
    }
   ],
   "source": [
    "# THIS CELL IS NOT EXPORTED - free notebook cell for testing or development purposes\n",
    "print(\"numpy version: \" + np.__version__)\n",
    "print(\"pandas version: \" + pd.__version__)\n",
    "print(\"xgboost version: \" + xgboost.__version__)\n",
    "print(\"shap version: \" + shap.__version__)"
   ]
  },
  {
   "cell_type": "markdown",
   "metadata": {},
   "source": [
    "## Stage 1 - get a data sample from Splunk\n",
    "In Splunk run a search to pipe a dataset into your notebook environment. Note: mode=stage is used in the | fit command to do this."
   ]
  },
  {
   "cell_type": "markdown",
   "metadata": {},
   "source": [
    "| inputlookup diabetes.csv</br>\n",
    "| fit MLTKContainer algo=shap_xgboost plot=\"violin\" response from BMI age blood_pressure diabetes_pedigree glucose_concentration number_pregnant serum_insulin skin_thickness into app:diabetes_shap_xgboost"
   ]
  },
  {
   "cell_type": "markdown",
   "metadata": {},
   "source": [
    "After you run this search your data set sample is available as a csv inside the container to develop your model. The name is taken from the into keyword (\"barebone_model\" in the example above) or set to \"default\" if no into keyword is present. This step is intended to work with a subset of your data to create your custom model."
   ]
  },
  {
   "cell_type": "code",
   "execution_count": 33,
   "metadata": {
    "deletable": false,
    "name": "mltkc_stage"
   },
   "outputs": [],
   "source": [
    "# this cell is not executed from MLTK and should only be used for staging data into the notebook environment\n",
    "def stage(name):\n",
    "    with open(\"data/\"+name+\".csv\", 'r') as f:\n",
    "        df = pd.read_csv(f)\n",
    "    with open(\"data/\"+name+\".json\", 'r') as f:\n",
    "        param = json.load(f)\n",
    "    return df, param"
   ]
  },
  {
   "cell_type": "code",
   "execution_count": 34,
   "metadata": {},
   "outputs": [
    {
     "name": "stdout",
     "output_type": "stream",
     "text": [
      "       number_pregnant  glucose_concentration  blood_pressure  skin_thickness  \\\n",
      "count       768.000000             768.000000      768.000000      768.000000   \n",
      "mean          3.845052             120.894531       69.105469       20.536458   \n",
      "std           3.369578              31.972618       19.355807       15.952218   \n",
      "min           0.000000               0.000000        0.000000        0.000000   \n",
      "25%           1.000000              99.000000       62.000000        0.000000   \n",
      "50%           3.000000             117.000000       72.000000       23.000000   \n",
      "75%           6.000000             140.250000       80.000000       32.000000   \n",
      "max          17.000000             199.000000      122.000000       99.000000   \n",
      "\n",
      "       serum_insulin         BMI  diabetes_pedigree         age    response  \n",
      "count     768.000000  768.000000         768.000000  768.000000  768.000000  \n",
      "mean       79.799479   31.992578           0.471876   33.240885    0.348958  \n",
      "std       115.244002    7.884160           0.331329   11.760232    0.476951  \n",
      "min         0.000000    0.000000           0.078000   21.000000    0.000000  \n",
      "25%         0.000000   27.300000           0.243750   24.000000    0.000000  \n",
      "50%        30.500000   32.000000           0.372500   29.000000    0.000000  \n",
      "75%       127.250000   36.600000           0.626250   41.000000    1.000000  \n",
      "max       846.000000   67.100000           2.420000   81.000000    1.000000  \n",
      "{'options': {'params': {'mode': 'stage', 'algo': 'shap_xgboost', 'plot': '\"default\"'}, 'args': ['response', 'BMI', 'age', 'blood_pressure', 'diabetes_pedigree', 'glucose_concentration', 'number_pregnant', 'serum_insulin', 'skin_thickness'], 'target_variable': ['response'], 'feature_variables': ['BMI', 'age', 'blood_pressure', 'diabetes_pedigree', 'glucose_concentration', 'number_pregnant', 'serum_insulin', 'skin_thickness'], 'model_name': 'diabetes_shap_xgboost', 'algo_name': 'MLTKContainer', 'mlspl_limits': {'handle_new_cat': 'default', 'max_distinct_cat_values': '1000', 'max_distinct_cat_values_for_classifiers': '1000', 'max_distinct_cat_values_for_scoring': '1000', 'max_fit_time': '6000', 'max_inputs': '1000000000', 'max_memory_usage_mb': '16000', 'max_model_size_mb': '1500', 'max_score_time': '6000', 'streaming_apply': 'false', 'use_sampling': 'true'}, 'kfold_cv': None}, 'feature_variables': ['BMI', 'age', 'blood_pressure', 'diabetes_pedigree', 'glucose_concentration', 'number_pregnant', 'serum_insulin', 'skin_thickness'], 'target_variables': ['response']}\n"
     ]
    }
   ],
   "source": [
    "# THIS CELL IS NOT EXPORTED - free notebook cell for testing or development purposes\n",
    "df, param = stage(\"diabetes_shap_xgboost\")\n",
    "print(df.describe())\n",
    "print(param)"
   ]
  },
  {
   "cell_type": "markdown",
   "metadata": {},
   "source": [
    "## Stage 2 - create and initialize a model"
   ]
  },
  {
   "cell_type": "code",
   "execution_count": 35,
   "metadata": {
    "deletable": false,
    "name": "mltkc_init"
   },
   "outputs": [],
   "source": [
    "# initialize your model\n",
    "# available inputs: data and parameters\n",
    "# returns the model object which will be used as a reference to call fit, apply and summary subsequently\n",
    "def init(df,param):\n",
    "    model = {}\n",
    "    return model"
   ]
  },
  {
   "cell_type": "code",
   "execution_count": 36,
   "metadata": {
    "scrolled": true
   },
   "outputs": [
    {
     "name": "stdout",
     "output_type": "stream",
     "text": [
      "{}\n"
     ]
    }
   ],
   "source": [
    "# THIS CELL IS NOT EXPORTED - free notebook cell for testing or development purposes\n",
    "model = init(df,param)\n",
    "print(model)"
   ]
  },
  {
   "cell_type": "markdown",
   "metadata": {},
   "source": [
    "## Stage 3 - fit the model"
   ]
  },
  {
   "cell_type": "code",
   "execution_count": 37,
   "metadata": {
    "deletable": false,
    "name": "mltkc_fit"
   },
   "outputs": [],
   "source": [
    "# train your model\n",
    "# returns a fit info json object and may modify the model object\n",
    "def fit(model,df,param):\n",
    "    X = df[param['feature_variables']]\n",
    "    y = df[param['target_variables']] \n",
    "    learning_rate = 0.01\n",
    "    if 'learning_rate' in param['options']['params']:\n",
    "        learning_rate = float(param['options']['params']['learning_rate'].lstrip(\"\\\"\").rstrip(\"\\\"\"))\n",
    "    model['xgboost'] = xgboost.train({\"learning_rate\": 0.01}, xgboost.DMatrix(X, label=y), 100)\n",
    "    # explain the model's prediction using SHAP values\n",
    "    model['shap_values'] = shap.TreeExplainer(model['xgboost']).shap_values(X)\n",
    "    return model"
   ]
  },
  {
   "cell_type": "code",
   "execution_count": 38,
   "metadata": {},
   "outputs": [
    {
     "name": "stderr",
     "output_type": "stream",
     "text": [
      "Setting feature_perturbation = \"tree_path_dependent\" because no background data was given.\n"
     ]
    },
    {
     "name": "stdout",
     "output_type": "stream",
     "text": [
      "{'xgboost': <xgboost.core.Booster object at 0x7f0144147910>, 'shap_values': array([[ 0.04888634,  0.07966339,  0.00351831, ..., -0.00365189,\n",
      "         0.01051885,  0.00752959],\n",
      "       [-0.02606879,  0.06355236,  0.00168564, ..., -0.00661832,\n",
      "         0.00953534,  0.01379988],\n",
      "       [-0.11241418,  0.03519003,  0.01424638, ...,  0.0410119 ,\n",
      "        -0.01535352, -0.0002517 ],\n",
      "       ...,\n",
      "       [-0.12812082,  0.03316534,  0.00241642, ..., -0.00441268,\n",
      "        -0.02803734,  0.00203382],\n",
      "       [ 0.02572026,  0.13816935,  0.0170685 , ..., -0.00298979,\n",
      "         0.02762241,  0.0047922 ],\n",
      "       [-0.00824305, -0.05296196, -0.00102958, ..., -0.00682973,\n",
      "         0.00614152,  0.00323639]], dtype=float32)}\n"
     ]
    }
   ],
   "source": [
    "# THIS CELL IS NOT EXPORTED - free notebook cell for testing or development purposes\n",
    "print(fit(model,df,param))"
   ]
  },
  {
   "cell_type": "markdown",
   "metadata": {},
   "source": [
    "## Stage 4 - apply the model"
   ]
  },
  {
   "cell_type": "code",
   "execution_count": 51,
   "metadata": {
    "deletable": false,
    "name": "mltkc_apply"
   },
   "outputs": [],
   "source": [
    "# apply your model\n",
    "# returns the calculated results\n",
    "def plot_to_base64(plot):\n",
    "    import base64\n",
    "    import io \n",
    "    pic_IObytes = io.BytesIO()\n",
    "    plot.savefig(pic_IObytes, format='png')\n",
    "    pic_IObytes.seek(0)\n",
    "    pic_hash = base64.b64encode(pic_IObytes.read())\n",
    "    return pic_hash\n",
    "\n",
    "def apply(model,df,param):\n",
    "    X = df[param['feature_variables']]\n",
    "    result = model['xgboost'].predict(xgboost.DMatrix(X))\n",
    "    if 'plot' in param['options']['params']:\n",
    "        plots = param['options']['params']['plot'].lstrip(\"\\\"\").rstrip(\"\\\"\").lower().split(',')\n",
    "        if 'shap_values' in model:            \n",
    "            shap_values = model['shap_values']\n",
    "            plt.clf()\n",
    "            for plot in plots:\n",
    "                print(plot)\n",
    "                if plot=='violin':\n",
    "                    shap.summary_plot(shap_values, X, show=False, plot_type=\"violin\")\n",
    "                elif plot=='layered_violin':\n",
    "                    shap.summary_plot(shap_values, X, show=False, plot_type=\"layered_violin\", color='coolwarm')\n",
    "                elif plot=='bar':\n",
    "                    shap.summary_plot(shap_values, X, show=False, plot_type=\"bar\")\n",
    "                else:\n",
    "                    shap.summary_plot(shap_values, X, show=False)\n",
    "                # export current plot\n",
    "                plt.gcf().set_size_inches(10,4)\n",
    "                plt.tight_layout()\n",
    "                model[\"plot_shap\"] = plot_to_base64(plt)\n",
    "    return result"
   ]
  },
  {
   "cell_type": "code",
   "execution_count": 52,
   "metadata": {},
   "outputs": [
    {
     "name": "stdout",
     "output_type": "stream",
     "text": [
      "default\n"
     ]
    },
    {
     "data": {
      "text/plain": [
       "array([0.7244234 , 0.3034776 , 0.67310643, 0.18413877, 0.7451435 ,\n",
       "       0.20315829, 0.3496354 , 0.34114766, 0.6859898 , 0.7213726 ,\n",
       "       0.321867  , 0.8095857 , 0.24765787, 0.73492736, 0.78636   ,\n",
       "       0.4692764 , 0.66592515, 0.5092245 , 0.24908781, 0.5387377 ,\n",
       "       0.2952225 , 0.30150032, 0.81022155, 0.51239735, 0.6021397 ,\n",
       "       0.47053358, 0.5495331 , 0.18816102, 0.22936937, 0.43873683,\n",
       "       0.40780202, 0.77613854, 0.18413877, 0.18939885, 0.50623155,\n",
       "       0.3342867 , 0.49047795, 0.66542757, 0.35318017, 0.6090915 ,\n",
       "       0.6573441 , 0.6523776 , 0.201945  , 0.70630574, 0.45223144,\n",
       "       0.7829278 , 0.36216205, 0.1890747 , 0.49030292, 0.19796866,\n",
       "       0.18816102, 0.1941818 , 0.16431499, 0.73765016, 0.4582651 ,\n",
       "       0.19013703, 0.7104093 , 0.42687353, 0.65486854, 0.23240063,\n",
       "       0.18905216, 0.5182019 , 0.20787439, 0.29909316, 0.5024037 ,\n",
       "       0.31764802, 0.53006136, 0.45193318, 0.18816102, 0.34369925,\n",
       "       0.44411775, 0.26297155, 0.651271  , 0.324633  , 0.23660073,\n",
       "       0.19013703, 0.2781592 , 0.2328136 , 0.74211276, 0.19071999,\n",
       "       0.19254303, 0.19013703, 0.22255722, 0.1982682 , 0.69658786,\n",
       "       0.2902451 , 0.37133777, 0.22755349, 0.5917645 , 0.19622928,\n",
       "       0.18939885, 0.4159792 , 0.20004064, 0.3089839 , 0.22113934,\n",
       "       0.49151254, 0.23768562, 0.18379208, 0.18379208, 0.6132872 ,\n",
       "       0.78364503, 0.24816439, 0.1955671 , 0.18305391, 0.37011924,\n",
       "       0.20193133, 0.19450596, 0.28315228, 0.2214936 , 0.30161303,\n",
       "       0.66595656, 0.6578994 , 0.23242551, 0.2307517 , 0.78925985,\n",
       "       0.7100567 , 0.62473166, 0.30880404, 0.1934211 , 0.18924588,\n",
       "       0.7758382 , 0.23982424, 0.24763218, 0.23516166, 0.28884673,\n",
       "       0.7267591 , 0.39347613, 0.27056634, 0.6336546 , 0.48642984,\n",
       "       0.68184227, 0.63981056, 0.8027326 , 0.31300533, 0.19364837,\n",
       "       0.3015596 , 0.18892172, 0.18381462, 0.426106  , 0.22242552,\n",
       "       0.2245959 , 0.46834412, 0.35281822, 0.49389604, 0.257896  ,\n",
       "       0.19890845, 0.29278684, 0.4234222 , 0.5006182 , 0.18939885,\n",
       "       0.36711496, 0.21193457, 0.7743283 , 0.24672413, 0.719136  ,\n",
       "       0.71400195, 0.18892172, 0.18739906, 0.18413877, 0.7501565 ,\n",
       "       0.37280703, 0.34083253, 0.23106924, 0.1934211 , 0.68060005,\n",
       "       0.68814695, 0.42473358, 0.50140876, 0.449852  , 0.3301256 ,\n",
       "       0.35344225, 0.50008744, 0.18484938, 0.30269355, 0.18767089,\n",
       "       0.8048134 , 0.28813118, 0.60400647, 0.49252787, 0.6871691 ,\n",
       "       0.19909808, 0.33168584, 0.18831399, 0.18939885, 0.26434588,\n",
       "       0.8094489 , 0.74483335, 0.7060006 , 0.6987553 , 0.40836865,\n",
       "       0.19180486, 0.39490473, 0.7849976 , 0.7621576 , 0.20014784,\n",
       "       0.7770328 , 0.19450596, 0.38201743, 0.4476341 , 0.6069962 ,\n",
       "       0.30206484, 0.37460017, 0.51357585, 0.18924588, 0.33409938,\n",
       "       0.19071999, 0.7456877 , 0.7269081 , 0.23644775, 0.81022155,\n",
       "       0.18831399, 0.5100725 , 0.57515574, 0.61482257, 0.66981465,\n",
       "       0.7350499 , 0.36079562, 0.3845135 , 0.48839417, 0.4929868 ,\n",
       "       0.8043857 , 0.72650146, 0.21606699, 0.22464862, 0.19092673,\n",
       "       0.2225785 , 0.24070597, 0.7973165 , 0.25871158, 0.23106924,\n",
       "       0.5687927 , 0.68650013, 0.18381462, 0.44489157, 0.18305391,\n",
       "       0.80790997, 0.7444304 , 0.80550677, 0.7993103 , 0.19890845,\n",
       "       0.18939885, 0.23134062, 0.5809716 , 0.6489137 , 0.35558695,\n",
       "       0.72097015, 0.4869664 , 0.21745247, 0.406083  , 0.19938746,\n",
       "       0.4515763 , 0.24811286, 0.18413877, 0.22634074, 0.694148  ,\n",
       "       0.4020579 , 0.46755043, 0.19938746, 0.29761845, 0.75512433,\n",
       "       0.4748807 , 0.75915515, 0.27475584, 0.43353918, 0.6306699 ,\n",
       "       0.3685084 , 0.75915515, 0.51655823, 0.19900638, 0.66374177,\n",
       "       0.6655909 , 0.19149101, 0.21193457, 0.23134062, 0.43514365,\n",
       "       0.31040484, 0.50082624, 0.19192326, 0.21193457, 0.18739906,\n",
       "       0.45654148, 0.46809918, 0.47192287, 0.70037293, 0.49860922,\n",
       "       0.21291208, 0.30395287, 0.66561055, 0.18816102, 0.3759762 ,\n",
       "       0.21999577, 0.33168584, 0.7356789 , 0.6702609 , 0.23381355,\n",
       "       0.48856452, 0.6018929 , 0.20075288, 0.5551479 , 0.21274629,\n",
       "       0.8020172 , 0.68208265, 0.19869256, 0.73203814, 0.4180958 ,\n",
       "       0.34588024, 0.75149834, 0.23008505, 0.5195033 , 0.6207597 ,\n",
       "       0.23140064, 0.26914227, 0.66290313, 0.20075288, 0.6664568 ,\n",
       "       0.22622213, 0.18471351, 0.8027898 , 0.22730699, 0.76319915,\n",
       "       0.2939124 , 0.27582642, 0.62473166, 0.6983563 , 0.23256713,\n",
       "       0.24015224, 0.63231367, 0.6499103 , 0.7267591 , 0.26636696,\n",
       "       0.21274629, 0.23242551, 0.73392653, 0.22282377, 0.18924588,\n",
       "       0.55796385, 0.506888  , 0.49457845, 0.71773744, 0.7881058 ,\n",
       "       0.24539113, 0.20271605, 0.23660073, 0.43749273, 0.30150032,\n",
       "       0.34308398, 0.25204012, 0.19254303, 0.18816102, 0.59001166,\n",
       "       0.27953067, 0.36988202, 0.3146985 , 0.18381462, 0.28366047,\n",
       "       0.6898521 , 0.5833465 , 0.7476239 , 0.22623369, 0.8062222 ,\n",
       "       0.8027326 , 0.25939894, 0.37298715, 0.7113333 , 0.3449821 ,\n",
       "       0.20932072, 0.5821397 , 0.1982682 , 0.18305391, 0.57355607,\n",
       "       0.78130376, 0.19737658, 0.29428583, 0.22242552, 0.33168584,\n",
       "       0.6516337 , 0.19192326, 0.33660024, 0.7180945 , 0.26847515,\n",
       "       0.20193133, 0.1982682 , 0.18739906, 0.18073064, 0.18654478,\n",
       "       0.18654478, 0.5448085 , 0.44993418, 0.69945407, 0.2975238 ,\n",
       "       0.3871174 , 0.78656685, 0.23043522, 0.16825286, 0.79087925,\n",
       "       0.20193133, 0.23552835, 0.42945173, 0.18831399, 0.6652603 ,\n",
       "       0.29412177, 0.2703093 , 0.52668685, 0.30168548, 0.71104604,\n",
       "       0.345747  , 0.49457845, 0.19718334, 0.67310643, 0.780385  ,\n",
       "       0.31819636, 0.3248667 , 0.41674048, 0.20714802, 0.68413603,\n",
       "       0.7009738 , 0.19275194, 0.68377995, 0.19380134, 0.4287692 ,\n",
       "       0.31707516, 0.18381462, 0.23131573, 0.20525226, 0.74114084,\n",
       "       0.7009738 , 0.19389927, 0.7400714 , 0.41922936, 0.54800355,\n",
       "       0.19524413, 0.21481249, 0.18381462, 0.22817734, 0.21709323,\n",
       "       0.72367036, 0.530578  , 0.35365802, 0.19450596, 0.49816754,\n",
       "       0.76021016, 0.23134062, 0.27056634, 0.64930964, 0.45835966,\n",
       "       0.7601603 , 0.18892172, 0.2251029 , 0.3568145 , 0.19680476,\n",
       "       0.18305391, 0.6028443 , 0.23131573, 0.21193457, 0.22755349,\n",
       "       0.66934186, 0.2705322 , 0.18305391, 0.74219304, 0.27619267,\n",
       "       0.24951413, 0.18831399, 0.24280027, 0.31165746, 0.21274629,\n",
       "       0.18922216, 0.19389927, 0.2993929 , 0.39902923, 0.42322776,\n",
       "       0.426106  , 0.41569132, 0.23632938, 0.3446559 , 0.19938746,\n",
       "       0.20614067, 0.65070105, 0.17831093, 0.1868769 , 0.26665252,\n",
       "       0.7771257 , 0.30926746, 0.18305391, 0.23240063, 0.73680085,\n",
       "       0.57684535, 0.35533002, 0.55363023, 0.1934211 , 0.21644655,\n",
       "       0.29428583, 0.29434997, 0.31338692, 0.60900784, 0.19013703,\n",
       "       0.23676535, 0.2120569 , 0.18381462, 0.80332273, 0.4088329 ,\n",
       "       0.18545991, 0.2225785 , 0.63277584, 0.24148774, 0.32440865,\n",
       "       0.2781592 , 0.7529203 , 0.22205794, 0.18484938, 0.20749575,\n",
       "       0.31408787, 0.23008505, 0.19757798, 0.1890747 , 0.18924588,\n",
       "       0.65745443, 0.7387998 , 0.5014636 , 0.2786219 , 0.19796246,\n",
       "       0.18413877, 0.26948145, 0.1977939 , 0.7206566 , 0.28508452,\n",
       "       0.18831399, 0.18816102, 0.18654478, 0.20375443, 0.21270421,\n",
       "       0.20193133, 0.30448058, 0.28379685, 0.27710947, 0.41124147,\n",
       "       0.6713351 , 0.32124186, 0.21934325, 0.30301404, 0.7091764 ,\n",
       "       0.7087256 , 0.4928303 , 0.5503239 , 0.22863838, 0.18767089,\n",
       "       0.8063015 , 0.7428915 , 0.42268026, 0.5585352 , 0.37007606,\n",
       "       0.19938746, 0.29306048, 0.36463326, 0.18305391, 0.21623352,\n",
       "       0.21171135, 0.3195997 , 0.41274828, 0.3622827 , 0.2781592 ,\n",
       "       0.52029717, 0.80862534, 0.22755349, 0.21642366, 0.29523927,\n",
       "       0.18484938, 0.2328136 , 0.2578447 , 0.34979278, 0.5409067 ,\n",
       "       0.28813118, 0.22431737, 0.19999218, 0.22242552, 0.3242064 ,\n",
       "       0.33835784, 0.23707795, 0.30448058, 0.31573993, 0.7424648 ,\n",
       "       0.5543434 , 0.19180486, 0.3870518 , 0.3452316 , 0.74100864,\n",
       "       0.18831399, 0.52714056, 0.21673706, 0.73699874, 0.19281441,\n",
       "       0.65573055, 0.22730699, 0.5690948 , 0.18484938, 0.5639978 ,\n",
       "       0.80032945, 0.29359344, 0.1890747 , 0.74129295, 0.18619809,\n",
       "       0.20460549, 0.19524413, 0.3769105 , 0.7052106 , 0.6716003 ,\n",
       "       0.35879862, 0.79079705, 0.18305391, 0.34740913, 0.18654478,\n",
       "       0.18816102, 0.8027326 , 0.810937  , 0.28518438, 0.7328462 ,\n",
       "       0.19450596, 0.34124917, 0.18939885, 0.6664568 , 0.5080556 ,\n",
       "       0.22730699, 0.19687068, 0.5442376 , 0.23131573, 0.19874069,\n",
       "       0.19899088, 0.1955671 , 0.39094672, 0.49110946, 0.18939885,\n",
       "       0.6205772 , 0.22618777, 0.19071999, 0.20914543, 0.19978967,\n",
       "       0.45261347, 0.35070974, 0.26438868, 0.5308162 , 0.18924588,\n",
       "       0.19275194, 0.4108895 , 0.5289398 , 0.2777568 , 0.19687068,\n",
       "       0.44446945, 0.795256  , 0.80862534, 0.6986048 , 0.19999152,\n",
       "       0.18413877, 0.23317179, 0.23456416, 0.20525226, 0.22242552,\n",
       "       0.66422844, 0.18924588, 0.48009825, 0.4105106 , 0.5672486 ,\n",
       "       0.41379267, 0.79079705, 0.71134347, 0.6829459 , 0.5175678 ,\n",
       "       0.22730699, 0.5562248 , 0.5083389 , 0.3064668 , 0.3366455 ,\n",
       "       0.65650904, 0.1941818 , 0.2168723 , 0.30607098, 0.27558944,\n",
       "       0.76982665, 0.56135315, 0.23559883, 0.35396087, 0.18892172,\n",
       "       0.18305391, 0.7708398 , 0.23131573, 0.38264412, 0.2128802 ,\n",
       "       0.40227425, 0.268983  , 0.34085047, 0.19044313, 0.7167611 ,\n",
       "       0.21781749, 0.73111874, 0.2952225 , 0.7325419 , 0.18939885,\n",
       "       0.5383442 , 0.68504035, 0.19900638, 0.28255224, 0.30448058,\n",
       "       0.23317179, 0.637328  , 0.73310745, 0.46542042, 0.19412738,\n",
       "       0.23389849, 0.6272831 , 0.33944273, 0.71659607, 0.37618822,\n",
       "       0.43695056, 0.38317695, 0.7059288 , 0.24066848, 0.33424407,\n",
       "       0.80592465, 0.8035053 , 0.2064766 , 0.23252502, 0.34060943,\n",
       "       0.27710947, 0.22622213, 0.6591657 , 0.35866678, 0.4432948 ,\n",
       "       0.4952011 , 0.23317179, 0.42723554, 0.24952674, 0.19013703,\n",
       "       0.58411187, 0.6885801 , 0.80550677, 0.18816102, 0.21528244,\n",
       "       0.22660077, 0.20075288, 0.30168548, 0.22134066, 0.44907895,\n",
       "       0.7324681 , 0.18889919, 0.19412738, 0.7176326 , 0.506337  ,\n",
       "       0.37941438, 0.59920865, 0.27216947, 0.80862534, 0.73892856,\n",
       "       0.50751597, 0.22730699, 0.19115809, 0.7009738 , 0.70031226,\n",
       "       0.70388395, 0.5194866 , 0.6172018 , 0.24315652, 0.7301405 ,\n",
       "       0.18484938, 0.81147885, 0.19978967, 0.2631452 , 0.2384319 ,\n",
       "       0.17450154, 0.6306699 , 0.18831399], dtype=float32)"
      ]
     },
     "execution_count": 52,
     "metadata": {},
     "output_type": "execute_result"
    },
    {
     "data": {
      "image/png": "[encoded data removed]",
      "text/plain": [
       "<Figure size 720x432 with 2 Axes>"
      ]
     },
     "metadata": {
      "needs_background": "light"
     },
     "output_type": "display_data"
    }
   ],
   "source": [
    "# THIS CELL IS NOT EXPORTED - free notebook cell for testing or development purposes\n",
    "apply(model,df,param)"
   ]
  },
  {
   "cell_type": "markdown",
   "metadata": {},
   "source": [
    "## Stage 5 - save the model"
   ]
  },
  {
   "cell_type": "code",
   "execution_count": 11,
   "metadata": {
    "deletable": false,
    "name": "mltkc_save"
   },
   "outputs": [],
   "source": [
    "# save model to name in expected convention \"<algo_name>_<model_name>\"\n",
    "def save(model,name):\n",
    "    # TODO if needed\n",
    "    #with open(MODEL_DIRECTORY + name + \".json\", 'w') as file:\n",
    "    #    json.dump(model, file)\n",
    "    return model"
   ]
  },
  {
   "cell_type": "code",
   "execution_count": 12,
   "metadata": {},
   "outputs": [],
   "source": [
    "model = save(model,'diabetes_shap_xgboost')"
   ]
  },
  {
   "cell_type": "markdown",
   "metadata": {},
   "source": [
    "## Stage 6 - load the model"
   ]
  },
  {
   "cell_type": "code",
   "execution_count": 13,
   "metadata": {
    "deletable": false,
    "name": "mltkc_load"
   },
   "outputs": [],
   "source": [
    "# load model from name in expected convention \"<algo_name>_<model_name>\"\n",
    "def load(name):\n",
    "    model = {}\n",
    "    # TODO if needed\n",
    "    # with open(MODEL_DIRECTORY + name + \".json\", 'r') as file:\n",
    "    #    model = json.load(file)\n",
    "    return model"
   ]
  },
  {
   "cell_type": "code",
   "execution_count": 14,
   "metadata": {},
   "outputs": [],
   "source": [
    "model = load('diabetes_shap_xgboost')"
   ]
  },
  {
   "cell_type": "markdown",
   "metadata": {},
   "source": [
    "## Stage 7 - provide a summary of the model"
   ]
  },
  {
   "cell_type": "code",
   "execution_count": 15,
   "metadata": {
    "deletable": false,
    "name": "mltkc_summary"
   },
   "outputs": [],
   "source": [
    "# return a model summary\n",
    "def summary(model=None):\n",
    "    returns = {\"version\": {\"xgboost\": xgboost.__version__, \"shap\": shap.__version__} }\n",
    "    return returns"
   ]
  },
  {
   "cell_type": "markdown",
   "metadata": {},
   "source": [
    "## End of Stages\n",
    "All subsequent cells are not tagged and can be used for further freeform code"
   ]
  },
  {
   "cell_type": "code",
   "execution_count": null,
   "metadata": {},
   "outputs": [],
   "source": []
  }
 ],
 "metadata": {
  "kernelspec": {
   "display_name": "Python 3",
   "language": "python",
   "name": "python3"
  },
  "language_info": {
   "codemirror_mode": {
    "name": "ipython",
    "version": 3
   },
   "file_extension": ".py",
   "mimetype": "text/x-python",
   "name": "python",
   "nbconvert_exporter": "python",
   "pygments_lexer": "ipython3",
   "version": "3.7.6"
  }
 },
 "nbformat": 4,
 "nbformat_minor": 4
}
