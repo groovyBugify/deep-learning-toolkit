{
 "cells": [
  {
   "cell_type": "markdown",
   "metadata": {},
   "source": [
    "# Notebook for Splunk Machine Learning Toolkit Container for TensorFlow"
   ]
  },
  {
   "cell_type": "markdown",
   "metadata": {},
   "source": [
    "This notebook contains an example workflow for how to forecast a univariate time series. "
   ]
  },
  {
   "cell_type": "markdown",
   "metadata": {},
   "source": [
    "## Stage 0 - import libraries\n",
    "At stage 0 we define all imports necessary to run our subsequent code depending on various libraries."
   ]
  },
  {
   "cell_type": "code",
   "execution_count": 1,
   "metadata": {
    "deletable": false,
    "name": "mltkc_import"
   },
   "outputs": [],
   "source": [
    "# this definition exposes all python module imports that should be available in all subsequent commands\n",
    "import json\n",
    "import datetime\n",
    "import numpy as np\n",
    "import pandas as pd\n",
    "import tensorflow as tf\n",
    "from tensorflow import keras\n",
    "\n",
    "# global constants\n",
    "MODEL_DIRECTORY = \"/srv/app/model/data/\""
   ]
  },
  {
   "cell_type": "code",
   "execution_count": 2,
   "metadata": {},
   "outputs": [
    {
     "name": "stdout",
     "output_type": "stream",
     "text": [
      "numpy version: 1.18.1\n",
      "pandas version: 1.0.1\n",
      "TensorFlow version: 2.1.0\n",
      "Keras version: 2.2.4-tf\n"
     ]
    }
   ],
   "source": [
    "# THIS CELL IS NOT EXPORTED - free notebook cell for testing purposes\n",
    "print(\"numpy version: \" + np.__version__)\n",
    "print(\"pandas version: \" + pd.__version__)\n",
    "print(\"TensorFlow version: \" + tf.__version__)\n",
    "print(\"Keras version: \" + keras.__version__)"
   ]
  },
  {
   "cell_type": "markdown",
   "metadata": {},
   "source": [
    "## Stage 1 - get a data sample from Splunk\n",
    "In Splunk run a search to pipe a prepared dataset into this environment."
   ]
  },
  {
   "cell_type": "markdown",
   "metadata": {},
   "source": [
    "| inputlookup internet_traffic.csv \n",
    "| timechart span=120min avg(\"bits_transferred\") as bits_transferred \n",
    "| eval bits_transferred=round(bits_transferred) \n",
    "| fit RobustScaler bits_transferred \n",
    "| fit MLTKContainer algo=forecast_rnn_internet_traffic mode=stage epochs=100 batch_size=3 RS_bits_transferred _time by RS_bits_transferred into app:internet_traffic_forecast_model"
   ]
  },
  {
   "cell_type": "markdown",
   "metadata": {},
   "source": [
    "After you run this search your data set sample is available as a csv inside the container to develop your model. The name is taken from the into keyword (\"internet_traffic_forecast_model\" in the example above) or set to \"default\" if no into keyword is present. This step is intended to work with a subset of your data to create your custom model."
   ]
  },
  {
   "cell_type": "code",
   "execution_count": 3,
   "metadata": {
    "deletable": false,
    "name": "mltkc_stage"
   },
   "outputs": [],
   "source": [
    "# this cell is not executed from MLTK and should only be used for staging data into the notebook environment\n",
    "def stage(name):\n",
    "    with open(\"data/\"+name+\".csv\", 'r') as f:\n",
    "        df = pd.read_csv(f)\n",
    "    with open(\"data/\"+name+\".json\", 'r') as f:\n",
    "        param = json.load(f)\n",
    "    return df, param"
   ]
  },
  {
   "cell_type": "code",
   "execution_count": 4,
   "metadata": {},
   "outputs": [
    {
     "name": "stdout",
     "output_type": "stream",
     "text": [
      "        _time  RS_bits_transferred\n",
      "0  1118152800             0.714191\n",
      "(616, 2)\n",
      "{'options': {'params': {'mode': 'stage', 'algo': 'univariate_cnn_forecast', 'epochs': '10', 'batch_size': '100', 'future_steps': '30', 'holdback': '30'}, 'args': ['RS_bits_transferred', '_time'], 'feature_variables': ['RS_bits_transferred', '_time'], 'split_by': ['RS_bits_transferred'], 'model_name': 'internet_traffic_forecast_model', 'algo_name': 'MLTKContainer', 'mlspl_limits': {'disabled': False, 'handle_new_cat': 'default', 'max_distinct_cat_values': '1000', 'max_distinct_cat_values_for_classifiers': '1000', 'max_distinct_cat_values_for_scoring': '1000', 'max_fit_time': '6000', 'max_inputs': '100000000', 'max_memory_usage_mb': '4000', 'max_model_size_mb': '150', 'max_score_time': '6000', 'streaming_apply': '0', 'use_sampling': '1'}, 'kfold_cv': None}, 'feature_variables': ['RS_bits_transferred', '_time']}\n"
     ]
    },
    {
     "data": {
      "text/html": [
       "<div>\n",
       "<style scoped>\n",
       "    .dataframe tbody tr th:only-of-type {\n",
       "        vertical-align: middle;\n",
       "    }\n",
       "\n",
       "    .dataframe tbody tr th {\n",
       "        vertical-align: top;\n",
       "    }\n",
       "\n",
       "    .dataframe thead th {\n",
       "        text-align: right;\n",
       "    }\n",
       "</style>\n",
       "<table border=\"1\" class=\"dataframe\">\n",
       "  <thead>\n",
       "    <tr style=\"text-align: right;\">\n",
       "      <th></th>\n",
       "      <th>RS_bits_transferred</th>\n",
       "    </tr>\n",
       "  </thead>\n",
       "  <tbody>\n",
       "    <tr>\n",
       "      <th>0</th>\n",
       "      <td>0.714191</td>\n",
       "    </tr>\n",
       "    <tr>\n",
       "      <th>1</th>\n",
       "      <td>1.162206</td>\n",
       "    </tr>\n",
       "    <tr>\n",
       "      <th>2</th>\n",
       "      <td>1.268620</td>\n",
       "    </tr>\n",
       "    <tr>\n",
       "      <th>3</th>\n",
       "      <td>1.268984</td>\n",
       "    </tr>\n",
       "    <tr>\n",
       "      <th>4</th>\n",
       "      <td>1.038817</td>\n",
       "    </tr>\n",
       "    <tr>\n",
       "      <th>...</th>\n",
       "      <td>...</td>\n",
       "    </tr>\n",
       "    <tr>\n",
       "      <th>611</th>\n",
       "      <td>-0.388140</td>\n",
       "    </tr>\n",
       "    <tr>\n",
       "      <th>612</th>\n",
       "      <td>-0.347570</td>\n",
       "    </tr>\n",
       "    <tr>\n",
       "      <th>613</th>\n",
       "      <td>0.120611</td>\n",
       "    </tr>\n",
       "    <tr>\n",
       "      <th>614</th>\n",
       "      <td>0.864492</td>\n",
       "    </tr>\n",
       "    <tr>\n",
       "      <th>615</th>\n",
       "      <td>1.059249</td>\n",
       "    </tr>\n",
       "  </tbody>\n",
       "</table>\n",
       "<p>616 rows × 1 columns</p>\n",
       "</div>"
      ],
      "text/plain": [
       "     RS_bits_transferred\n",
       "0               0.714191\n",
       "1               1.162206\n",
       "2               1.268620\n",
       "3               1.268984\n",
       "4               1.038817\n",
       "..                   ...\n",
       "611            -0.388140\n",
       "612            -0.347570\n",
       "613             0.120611\n",
       "614             0.864492\n",
       "615             1.059249\n",
       "\n",
       "[616 rows x 1 columns]"
      ]
     },
     "execution_count": 4,
     "metadata": {},
     "output_type": "execute_result"
    }
   ],
   "source": [
    "# THIS CELL IS NOT EXPORTED - free notebook cell for testing purposes\n",
    "df, param = stage(\"internet_traffic_forecast_model\")\n",
    "print(df[0:1])\n",
    "print(df.shape)\n",
    "print(str(param))\n",
    "df[param['options']['split_by']]"
   ]
  },
  {
   "cell_type": "markdown",
   "metadata": {},
   "source": [
    "## Stage 2 - create and initialize a model"
   ]
  },
  {
   "cell_type": "code",
   "execution_count": 5,
   "metadata": {
    "deletable": false,
    "name": "mltkc_init"
   },
   "outputs": [],
   "source": [
    "# initialize the model\n",
    "# params: data and parameters\n",
    "# returns the model object which will be used as a reference to call fit, apply and summary subsequently\n",
    "def init(df,param):\n",
    "    # Collect variables\n",
    "    model_batch_size = 3\n",
    "    n_features = 1\n",
    "    hidden_layers = 50\n",
    "    activation_func = 'sigmoid'\n",
    "    if 'options' in param:\n",
    "        if 'params' in param['options']:\n",
    "            if 'batch_size' in param['options']['params']:\n",
    "                model_batch_size = int(param['options']['params']['batch_size'])\n",
    "            if 'hidden_layers' in param['options']['params']:\n",
    "                hidden_layers = int(param['options']['params']['hidden_layers'])\n",
    "            if 'activation' in param['options']['params']:\n",
    "                activation_func = param['options']['params']['activation']\n",
    "    \n",
    "    # define model\n",
    "    model = keras.Sequential()\n",
    "    model.add(keras.layers.LSTM(hidden_layers, activation=activation_func, input_shape=(model_batch_size, n_features)))\n",
    "    model.add(keras.layers.Dense(n_features))\n",
    "    model.compile(optimizer='adam', loss='mse')\n",
    "    return model"
   ]
  },
  {
   "cell_type": "code",
   "execution_count": 6,
   "metadata": {
    "scrolled": true
   },
   "outputs": [
    {
     "name": "stdout",
     "output_type": "stream",
     "text": [
      "Model: \"sequential\"\n",
      "_________________________________________________________________\n",
      "Layer (type)                 Output Shape              Param #   \n",
      "=================================================================\n",
      "lstm (LSTM)                  (None, 50)                10400     \n",
      "_________________________________________________________________\n",
      "dense (Dense)                (None, 1)                 51        \n",
      "=================================================================\n",
      "Total params: 10,451\n",
      "Trainable params: 10,451\n",
      "Non-trainable params: 0\n",
      "_________________________________________________________________\n",
      "None\n"
     ]
    }
   ],
   "source": [
    "model = init(df,param)\n",
    "print(model.summary())"
   ]
  },
  {
   "cell_type": "markdown",
   "metadata": {},
   "source": [
    "## Stage 3 - fit the model"
   ]
  },
  {
   "cell_type": "code",
   "execution_count": 7,
   "metadata": {
    "deletable": false,
    "name": "mltkc_fit"
   },
   "outputs": [],
   "source": [
    "# returns a fit info json object\n",
    "# split a univariate sequence into samples\n",
    "def split_sequence(sequence, batch_size):\n",
    "    \n",
    "    X, y = list(), list()\n",
    "    for i in range(len(sequence)):\n",
    "        # find the end of this pattern\n",
    "        end_ix = i + batch_size\n",
    "        # check if we are beyond the sequence\n",
    "        if end_ix > len(sequence)-1:\n",
    "            break\n",
    "        # gather input and output parts of the pattern\n",
    "        seq_x, seq_y = sequence[i:end_ix], sequence[end_ix]\n",
    "        X.append(seq_x)\n",
    "        y.append(seq_y)\n",
    "    return np.array(X), np.array(y)\n",
    "\n",
    "def fit(model,df,param):\n",
    "    returns = {}\n",
    "    \n",
    "    # Collect variables from param file\n",
    "    model_epochs = 100\n",
    "    model_batch_size = 3\n",
    "    holdback = 30\n",
    "    if 'options' in param:\n",
    "        if 'params' in param['options']:\n",
    "            if 'epochs' in param['options']['params']:\n",
    "                model_epochs = int(param['options']['params']['epochs'])\n",
    "            if 'batch_size' in param['options']['params']:\n",
    "                model_batch_size = int(param['options']['params']['batch_size'])\n",
    "            if 'holdback' in param['options']['params']:\n",
    "                holdback = int(param['options']['params']['holdback'])\n",
    "    \n",
    "    \n",
    "    # flatten data frame into an array and extract the training set\n",
    "    full_data = df[param['options']['split_by']].values.tolist()\n",
    "    train_set = list(full_data[:len(full_data)-holdback])\n",
    "    \n",
    "    # split data into samples\n",
    "    X, y = split_sequence(train_set, model_batch_size)\n",
    "    # reshape from [samples, timesteps] into [samples, timesteps, features]\n",
    "    n_features = 1\n",
    "    X = X.reshape((X.shape[0], X.shape[1], 1))\n",
    "    \n",
    "\n",
    "    # connect model training to tensorboard\n",
    "    log_dir=\"/srv/notebooks/logs/fit/\" + datetime.datetime.now().strftime(\"%Y%m%d-%H%M%S\")\n",
    "    tensorboard_callback = tf.keras.callbacks.TensorBoard(log_dir=log_dir, histogram_freq=1)\n",
    "    \n",
    "    # run the training\n",
    "    returns['fit_history'] = model.fit(x=X,\n",
    "                                       y=y, \n",
    "                                       verbose=2, \n",
    "                                       epochs=model_epochs,\n",
    "                                       shuffle=False)\n",
    "    # memorize parameters\n",
    "    returns['model_epochs'] = model_epochs\n",
    "    returns['model_batch_size'] = model_batch_size\n",
    "    returns['model_loss_acc'] = model.evaluate(x = X, y = y)\n",
    "    return returns"
   ]
  },
  {
   "cell_type": "code",
   "execution_count": 8,
   "metadata": {},
   "outputs": [
    {
     "name": "stdout",
     "output_type": "stream",
     "text": [
      "Train on 486 samples\n",
      "Epoch 1/10\n",
      "486/486 - 2s - loss: 0.3680\n",
      "Epoch 2/10\n",
      "486/486 - 1s - loss: 0.3463\n",
      "Epoch 3/10\n",
      "486/486 - 2s - loss: 0.3306\n",
      "Epoch 4/10\n",
      "486/486 - 2s - loss: 0.3162\n",
      "Epoch 5/10\n",
      "486/486 - 1s - loss: 0.3023\n",
      "Epoch 6/10\n",
      "486/486 - 1s - loss: 0.2888\n",
      "Epoch 7/10\n",
      "486/486 - 1s - loss: 0.2756\n",
      "Epoch 8/10\n",
      "486/486 - 1s - loss: 0.2628\n",
      "Epoch 9/10\n",
      "486/486 - 1s - loss: 0.2502\n",
      "Epoch 10/10\n",
      "486/486 - 1s - loss: 0.2379\n",
      "486/486 [==============================] - 1s 2ms/sample - loss: 0.2304\n",
      "0.230404122130861\n"
     ]
    }
   ],
   "source": [
    "returns = fit(model,df,param)\n",
    "print(returns['model_loss_acc'])"
   ]
  },
  {
   "cell_type": "markdown",
   "metadata": {},
   "source": [
    "## Stage 4 - apply the model"
   ]
  },
  {
   "cell_type": "code",
   "execution_count": 11,
   "metadata": {
    "deletable": false,
    "name": "mltkc_apply"
   },
   "outputs": [],
   "source": [
    "def apply(model,df,param):\n",
    "    \n",
    "    # Collect variables\n",
    "    model_batch_size = 3\n",
    "    future_steps = 30\n",
    "    holdback = 30\n",
    "    if 'options' in param:\n",
    "        if 'params' in param['options']:\n",
    "            if 'batch_size' in param['options']['params']:\n",
    "                model_batch_size = int(param['options']['params']['batch_size'])\n",
    "            if 'future_steps' in param['options']['params']:\n",
    "                future_steps = int(param['options']['params']['future_steps'])\n",
    "            if 'holdback' in param['options']['params']:\n",
    "                holdback = int(param['options']['params']['holdback'])\n",
    "    \n",
    "    # select training data\n",
    "    X = df[param['options']['split_by']].values\n",
    "\n",
    "    test_set = X[len(X)-holdback-model_batch_size:]\n",
    "    predictions = list(X[:len(X)-holdback])\n",
    "    # generate forecast\n",
    "    for i in range(0, holdback+future_steps):\n",
    "        if i<holdback:\n",
    "            X_batch = test_set[i:i+model_batch_size].reshape(1,model_batch_size,1)\n",
    "            y_pred = model.predict(x = X_batch, verbose=1)\n",
    "            predictions.append(list(y_pred[0]))\n",
    "        else:\n",
    "            X_batch = test_set[i:i+model_batch_size].reshape(1,model_batch_size,1)\n",
    "            y_pred = model.predict(x = X_batch, verbose=1)\n",
    "            predictions.append(list(y_pred[0]))\n",
    "            test_set = np.append(test_set, y_pred[0])\n",
    "            \n",
    "    # append predictions to time series to return a data frame\n",
    "    return predictions"
   ]
  },
  {
   "cell_type": "code",
   "execution_count": 12,
   "metadata": {},
   "outputs": [
    {
     "name": "stdout",
     "output_type": "stream",
     "text": [
      "1/1 [==============================] - 0s 426ms/sample\n",
      "1/1 [==============================] - 0s 33ms/sample\n",
      "1/1 [==============================] - 0s 29ms/sample\n",
      "1/1 [==============================] - 0s 24ms/sample\n",
      "1/1 [==============================] - 0s 29ms/sample\n",
      "1/1 [==============================] - 0s 33ms/sample\n",
      "1/1 [==============================] - 0s 32ms/sample\n",
      "1/1 [==============================] - 0s 24ms/sample\n",
      "1/1 [==============================] - 0s 57ms/sample\n",
      "1/1 [==============================] - 0s 18ms/sample\n",
      "1/1 [==============================] - 0s 27ms/sample\n",
      "1/1 [==============================] - 0s 19ms/sample\n",
      "1/1 [==============================] - 0s 26ms/sample\n",
      "1/1 [==============================] - 0s 36ms/sample\n",
      "1/1 [==============================] - 0s 36ms/sample\n",
      "1/1 [==============================] - 0s 31ms/sample\n",
      "1/1 [==============================] - 0s 19ms/sample\n",
      "1/1 [==============================] - 0s 23ms/sample\n",
      "1/1 [==============================] - 0s 26ms/sample\n",
      "1/1 [==============================] - 0s 19ms/sample\n",
      "1/1 [==============================] - 0s 36ms/sample\n",
      "1/1 [==============================] - 0s 26ms/sample\n",
      "1/1 [==============================] - 0s 20ms/sample\n",
      "1/1 [==============================] - 0s 34ms/sample\n",
      "1/1 [==============================] - 0s 29ms/sample\n",
      "1/1 [==============================] - 0s 21ms/sample\n",
      "1/1 [==============================] - 0s 19ms/sample\n",
      "1/1 [==============================] - 0s 20ms/sample\n",
      "1/1 [==============================] - 0s 23ms/sample\n",
      "1/1 [==============================] - 0s 24ms/sample\n",
      "1/1 [==============================] - 0s 21ms/sample\n",
      "1/1 [==============================] - 0s 17ms/sample\n",
      "1/1 [==============================] - 0s 21ms/sample\n",
      "1/1 [==============================] - 0s 33ms/sample\n",
      "1/1 [==============================] - 0s 17ms/sample\n",
      "1/1 [==============================] - 0s 24ms/sample\n",
      "1/1 [==============================] - 0s 17ms/sample\n",
      "1/1 [==============================] - 0s 20ms/sample\n",
      "1/1 [==============================] - 0s 16ms/sample\n",
      "1/1 [==============================] - 0s 21ms/sample\n",
      "1/1 [==============================] - 0s 18ms/sample\n",
      "1/1 [==============================] - 0s 19ms/sample\n",
      "1/1 [==============================] - 0s 22ms/sample\n",
      "1/1 [==============================] - 0s 14ms/sample\n",
      "1/1 [==============================] - 0s 26ms/sample\n",
      "1/1 [==============================] - 0s 20ms/sample\n",
      "1/1 [==============================] - 0s 18ms/sample\n",
      "1/1 [==============================] - 0s 29ms/sample\n",
      "1/1 [==============================] - 0s 49ms/sample\n",
      "1/1 [==============================] - 0s 20ms/sample\n",
      "1/1 [==============================] - 0s 36ms/sample\n",
      "1/1 [==============================] - 0s 23ms/sample\n",
      "1/1 [==============================] - 0s 38ms/sample\n",
      "1/1 [==============================] - 0s 17ms/sample\n",
      "1/1 [==============================] - 0s 26ms/sample\n",
      "1/1 [==============================] - 0s 26ms/sample\n",
      "1/1 [==============================] - 0s 31ms/sample\n",
      "1/1 [==============================] - 0s 38ms/sample\n",
      "1/1 [==============================] - 0s 24ms/sample\n",
      "1/1 [==============================] - 0s 33ms/sample\n",
      "646\n"
     ]
    },
    {
     "data": {
      "text/plain": [
       "[array([0.328399]),\n",
       " array([0.18502462]),\n",
       " array([-9.24839172e-05]),\n",
       " [0.19981584],\n",
       " [0.1255655],\n",
       " [0.08042667],\n",
       " [0.06335317],\n",
       " [0.11178725],\n",
       " [0.3096624],\n",
       " [0.43013453],\n",
       " [0.44793108],\n",
       " [0.4651054],\n",
       " [0.38016388],\n",
       " [0.2524955],\n",
       " [0.2139458],\n",
       " [0.16274178],\n",
       " [0.0985539],\n",
       " [0.06007012],\n",
       " [0.051599935],\n",
       " [0.14013197],\n",
       " [0.33504146],\n",
       " [0.40459907],\n",
       " [0.44544217],\n",
       " [0.43764862],\n",
       " [0.3405208],\n",
       " [0.23911276],\n",
       " [0.1955782],\n",
       " [0.14060003],\n",
       " [0.0832598],\n",
       " [0.05837349],\n",
       " [0.056385558],\n",
       " [0.16167833],\n",
       " [0.35194933],\n",
       " [0.4293462],\n",
       " [0.3006632],\n",
       " [0.26334992],\n",
       " [0.25059432],\n",
       " [0.24428393],\n",
       " [0.24021266],\n",
       " [0.23722959],\n",
       " [0.23493493],\n",
       " [0.23313665],\n",
       " [0.2317152],\n",
       " [0.23058543],\n",
       " [0.22968386],\n",
       " [0.22896214],\n",
       " [0.22838259],\n",
       " [0.22791605],\n",
       " [0.22753976],\n",
       " [0.22723563],\n",
       " [0.22698924],\n",
       " [0.22678956],\n",
       " [0.22662733],\n",
       " [0.22649543],\n",
       " [0.22638811],\n",
       " [0.2263006],\n",
       " [0.2262291],\n",
       " [0.22617073],\n",
       " [0.22612315],\n",
       " [0.22608417],\n",
       " [0.22605227],\n",
       " [0.22602619],\n",
       " [0.22600485]]"
      ]
     },
     "execution_count": 12,
     "metadata": {},
     "output_type": "execute_result"
    }
   ],
   "source": [
    "training_instance = apply(model,df,param)\n",
    "print(len(training_instance))\n",
    "training_instance[583:]"
   ]
  },
  {
   "cell_type": "markdown",
   "metadata": {},
   "source": [
    "## Stage 5 - save the model"
   ]
  },
  {
   "cell_type": "code",
   "execution_count": null,
   "metadata": {
    "deletable": false,
    "name": "mltkc_save"
   },
   "outputs": [],
   "source": [
    "# save model to name in expected convention \"<algo_name>_<model_name>.h5\"\n",
    "def save(model,name):\n",
    "    # save keras model to hdf5 file\n",
    "    # https://www.tensorflow.org/beta/tutorials/keras/save_and_restore_models\n",
    "    model.save(MODEL_DIRECTORY + name + \".h5\")\n",
    "    return model"
   ]
  },
  {
   "cell_type": "markdown",
   "metadata": {},
   "source": [
    "## Stage 6 - load the model"
   ]
  },
  {
   "cell_type": "code",
   "execution_count": null,
   "metadata": {
    "deletable": false,
    "name": "mltkc_load"
   },
   "outputs": [],
   "source": [
    "# load model from name in expected convention \"<algo_name>_<model_name>.h5\"\n",
    "def load(name):\n",
    "    model = keras.models.load_model(MODEL_DIRECTORY + name + \".h5\")\n",
    "    return model"
   ]
  },
  {
   "cell_type": "markdown",
   "metadata": {},
   "source": [
    "## Stage 7 - provide a summary of the model"
   ]
  },
  {
   "cell_type": "code",
   "execution_count": null,
   "metadata": {
    "deletable": false,
    "name": "mltkc_summary"
   },
   "outputs": [],
   "source": [
    "# return model summary\n",
    "def summary(model=None):\n",
    "    returns = {\"version\": {\"tensorflow\": tf.__version__, \"keras\": keras.__version__} }\n",
    "    if model is not None:\n",
    "        # Save keras model summary to string:\n",
    "        s = []\n",
    "        model.summary(print_fn=lambda x: s.append(x+'\\n'))\n",
    "        returns[\"summary\"] = ''.join(s)\n",
    "    return returns"
   ]
  },
  {
   "cell_type": "markdown",
   "metadata": {},
   "source": [
    "## End of Stages\n",
    "All subsequent cells are not tagged and can be used for further freeform code"
   ]
  },
  {
   "cell_type": "code",
   "execution_count": null,
   "metadata": {},
   "outputs": [],
   "source": []
  },
  {
   "cell_type": "code",
   "execution_count": null,
   "metadata": {},
   "outputs": [],
   "source": []
  },
  {
   "cell_type": "code",
   "execution_count": null,
   "metadata": {},
   "outputs": [],
   "source": []
  },
  {
   "cell_type": "code",
   "execution_count": null,
   "metadata": {},
   "outputs": [],
   "source": []
  },
  {
   "cell_type": "code",
   "execution_count": null,
   "metadata": {},
   "outputs": [],
   "source": []
  }
 ],
 "metadata": {
  "kernelspec": {
   "display_name": "Python 3",
   "language": "python",
   "name": "python3"
  },
  "language_info": {
   "codemirror_mode": {
    "name": "ipython",
    "version": 3
   },
   "file_extension": ".py",
   "mimetype": "text/x-python",
   "name": "python",
   "nbconvert_exporter": "python",
   "pygments_lexer": "ipython3",
   "version": "3.7.6"
  }
 },
 "nbformat": 4,
 "nbformat_minor": 4
}
